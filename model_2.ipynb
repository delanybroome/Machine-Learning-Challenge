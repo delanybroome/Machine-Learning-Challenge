{
 "cells": [
  {
   "cell_type": "code",
   "execution_count": 1,
   "metadata": {
    "tags": []
   },
   "outputs": [
    {
     "output_type": "stream",
     "name": "stdout",
     "text": "Requirement already up-to-date: sklearn in /opt/anaconda3/lib/python3.7/site-packages (0.0)\nRequirement already satisfied, skipping upgrade: scikit-learn in /opt/anaconda3/lib/python3.7/site-packages (from sklearn) (0.22.1)\nRequirement already satisfied, skipping upgrade: numpy>=1.11.0 in /opt/anaconda3/lib/python3.7/site-packages (from scikit-learn->sklearn) (1.18.1)\nRequirement already satisfied, skipping upgrade: joblib>=0.11 in /opt/anaconda3/lib/python3.7/site-packages (from scikit-learn->sklearn) (0.14.1)\nRequirement already satisfied, skipping upgrade: scipy>=0.17.0 in /opt/anaconda3/lib/python3.7/site-packages (from scikit-learn->sklearn) (1.4.1)\n"
    }
   ],
   "source": [
    "# Update sklearn to prevent version mismatches\n",
    "!pip install sklearn --upgrade"
   ]
  },
  {
   "cell_type": "code",
   "execution_count": 2,
   "metadata": {
    "tags": []
   },
   "outputs": [
    {
     "output_type": "stream",
     "name": "stdout",
     "text": "Requirement already satisfied: joblib in /opt/anaconda3/lib/python3.7/site-packages (0.14.1)\n"
    }
   ],
   "source": [
    "# install joblib. This will be used to save your model. \n",
    "# Restart your kernel after installing \n",
    "!pip install joblib"
   ]
  },
  {
   "cell_type": "code",
   "execution_count": 3,
   "metadata": {},
   "outputs": [],
   "source": [
    "import pandas as pd\n",
    "import numpy as np \n",
    "import matplotlib.pyplot as plt "
   ]
  },
  {
   "cell_type": "markdown",
   "metadata": {},
   "source": [
    "# Read the CSV and Perform Basic Data Cleaning"
   ]
  },
  {
   "cell_type": "code",
   "execution_count": 4,
   "metadata": {},
   "outputs": [
    {
     "output_type": "execute_result",
     "data": {
      "text/plain": "  koi_disposition  koi_fpflag_nt  koi_fpflag_ss  koi_fpflag_co  koi_fpflag_ec  \\\n0       CONFIRMED              0              0              0              0   \n1  FALSE POSITIVE              0              1              0              0   \n2  FALSE POSITIVE              0              1              0              0   \n3       CONFIRMED              0              0              0              0   \n4       CONFIRMED              0              0              0              0   \n5       CONFIRMED              0              0              0              0   \n6       CONFIRMED              0              0              0              0   \n7       CONFIRMED              0              0              0              0   \n8       CONFIRMED              0              1              0              0   \n9       CONFIRMED              0              0              0              0   \n\n   koi_period  koi_period_err1  koi_period_err2  koi_time0bk  \\\n0   54.418383     2.479000e-04    -2.479000e-04   162.513840   \n1   19.899140     1.490000e-05    -1.490000e-05   175.850252   \n2    1.736952     2.630000e-07    -2.630000e-07   170.307565   \n3    2.525592     3.760000e-06    -3.760000e-06   171.595550   \n4    4.134435     1.050000e-05    -1.050000e-05   172.979370   \n5    2.566589     1.780000e-05    -1.780000e-05   179.554370   \n6   16.068647     1.090000e-05    -1.090000e-05   173.621937   \n7    2.470613     2.700000e-08    -2.700000e-08   122.763305   \n8    2.204735     4.300000e-08    -4.300000e-08   121.358542   \n9    3.522498     1.980000e-07    -1.980000e-07   121.119423   \n\n   koi_time0bk_err1  koi_time0bk_err2  koi_impact  koi_impact_err1  \\\n0          0.003520         -0.003520       0.586            0.059   \n1          0.000581         -0.000581       0.969            5.126   \n2          0.000115         -0.000115       1.276            0.115   \n3          0.001130         -0.001130       0.701            0.235   \n4          0.001900         -0.001900       0.762            0.139   \n5          0.004610         -0.004610       0.755            0.212   \n6          0.000517         -0.000517       0.052            0.262   \n7          0.000009         -0.000009       0.818            0.001   \n8          0.000016         -0.000016       0.224            0.159   \n9          0.000047         -0.000047       0.631            0.007   \n\n   koi_impact_err2  koi_duration  koi_duration_err1  koi_duration_err2  \\\n0           -0.443       4.50700            0.11600           -0.11600   \n1           -0.077       1.78220            0.03410           -0.03410   \n2           -0.092       2.40641            0.00537           -0.00537   \n3           -0.478       1.65450            0.04200           -0.04200   \n4           -0.532       3.14020            0.06730           -0.06730   \n5           -0.523       2.42900            0.16500           -0.16500   \n6           -0.052       3.53470            0.02410           -0.02410   \n7           -0.001       1.74319            0.00107           -0.00107   \n8           -0.216       3.88864            0.00203           -0.00203   \n9           -0.007       3.19843            0.00653           -0.00653   \n\n   koi_depth  koi_depth_err1  koi_depth_err2  koi_prad  koi_prad_err1  \\\n0      874.8            35.5           -35.5      2.83           0.32   \n1    10829.0           171.0          -171.0     14.60           3.92   \n2     8079.2            12.8           -12.8     33.46           8.50   \n3      603.3            16.9           -16.9      2.75           0.88   \n4      686.0            18.7           -18.7      2.77           0.90   \n5      226.5            16.8           -16.8      1.59           0.52   \n6     4914.3            33.3           -33.3      5.76           0.22   \n7    14231.0             4.2            -4.2     13.04           0.51   \n8     6674.7             1.7            -1.7     16.10           0.81   \n9     9145.7             6.6            -6.6     14.59           1.11   \n\n   koi_prad_err2  koi_teq  koi_insol  koi_insol_err1  koi_insol_err2  \\\n0          -0.19      443       9.11            2.87           -1.62   \n1          -1.31      638      39.30           31.04          -10.49   \n2          -2.83     1395     891.96          668.95         -230.35   \n3          -0.35     1406     926.16          874.33         -314.24   \n4          -0.30     1160     427.65          420.33         -136.70   \n5          -0.17     1360     807.74          793.91         -258.20   \n6          -0.49      600      30.75            4.46           -6.66   \n7          -0.51     1339     761.46          106.21          -95.76   \n8          -0.91     2048    4148.92          651.59         -654.46   \n9          -1.11     1521    1264.67          307.23         -276.48   \n\n   koi_model_snr  koi_tce_plnt_num  koi_steff  koi_steff_err1  koi_steff_err2  \\\n0           25.8                 2       5455              81             -81   \n1           76.3                 1       5853             158            -176   \n2          505.6                 1       5805             157            -174   \n3           40.9                 1       6031             169            -211   \n4           40.2                 2       6046             189            -232   \n5           15.0                 3       6046             189            -232   \n6          161.9                 1       5031              75             -83   \n7         4304.3                 1       5820              78             -78   \n8         5945.9                 1       6440              76             -89   \n9         1741.5                 1       6225             112            -137   \n\n   koi_slogg  koi_slogg_err1  koi_slogg_err2  koi_srad  koi_srad_err1  \\\n0      4.467           0.064          -0.096     0.927          0.105   \n1      4.544           0.044          -0.176     0.868          0.233   \n2      4.564           0.053          -0.168     0.791          0.201   \n3      4.438           0.070          -0.210     1.046          0.334   \n4      4.486           0.054          -0.229     0.972          0.315   \n5      4.486           0.054          -0.229     0.972          0.315   \n6      4.485           0.083          -0.028     0.848          0.033   \n7      4.457           0.024          -0.024     0.964          0.038   \n8      4.019           0.033          -0.027     1.952          0.099   \n9      4.169           0.055          -0.045     1.451          0.110   \n\n   koi_srad_err2         ra        dec  koi_kepmag  \n0         -0.061  291.93423  48.141651      15.347  \n1         -0.078  297.00482  48.134129      15.436  \n2         -0.067  285.53461  48.285210      15.597  \n3         -0.133  288.75488  48.226200      15.509  \n4         -0.105  296.28613  48.224670      15.714  \n5         -0.105  296.28613  48.224670      15.714  \n6         -0.072  286.99948  48.375790      15.841  \n7         -0.038  286.80847  49.316399      11.338  \n8         -0.110  292.24728  47.969521      10.463  \n9         -0.110  281.28812  42.451080      13.563  ",
      "text/html": "<div>\n<style scoped>\n    .dataframe tbody tr th:only-of-type {\n        vertical-align: middle;\n    }\n\n    .dataframe tbody tr th {\n        vertical-align: top;\n    }\n\n    .dataframe thead th {\n        text-align: right;\n    }\n</style>\n<table border=\"1\" class=\"dataframe\">\n  <thead>\n    <tr style=\"text-align: right;\">\n      <th></th>\n      <th>koi_disposition</th>\n      <th>koi_fpflag_nt</th>\n      <th>koi_fpflag_ss</th>\n      <th>koi_fpflag_co</th>\n      <th>koi_fpflag_ec</th>\n      <th>koi_period</th>\n      <th>koi_period_err1</th>\n      <th>koi_period_err2</th>\n      <th>koi_time0bk</th>\n      <th>koi_time0bk_err1</th>\n      <th>koi_time0bk_err2</th>\n      <th>koi_impact</th>\n      <th>koi_impact_err1</th>\n      <th>koi_impact_err2</th>\n      <th>koi_duration</th>\n      <th>koi_duration_err1</th>\n      <th>koi_duration_err2</th>\n      <th>koi_depth</th>\n      <th>koi_depth_err1</th>\n      <th>koi_depth_err2</th>\n      <th>koi_prad</th>\n      <th>koi_prad_err1</th>\n      <th>koi_prad_err2</th>\n      <th>koi_teq</th>\n      <th>koi_insol</th>\n      <th>koi_insol_err1</th>\n      <th>koi_insol_err2</th>\n      <th>koi_model_snr</th>\n      <th>koi_tce_plnt_num</th>\n      <th>koi_steff</th>\n      <th>koi_steff_err1</th>\n      <th>koi_steff_err2</th>\n      <th>koi_slogg</th>\n      <th>koi_slogg_err1</th>\n      <th>koi_slogg_err2</th>\n      <th>koi_srad</th>\n      <th>koi_srad_err1</th>\n      <th>koi_srad_err2</th>\n      <th>ra</th>\n      <th>dec</th>\n      <th>koi_kepmag</th>\n    </tr>\n  </thead>\n  <tbody>\n    <tr>\n      <th>0</th>\n      <td>CONFIRMED</td>\n      <td>0</td>\n      <td>0</td>\n      <td>0</td>\n      <td>0</td>\n      <td>54.418383</td>\n      <td>2.479000e-04</td>\n      <td>-2.479000e-04</td>\n      <td>162.513840</td>\n      <td>0.003520</td>\n      <td>-0.003520</td>\n      <td>0.586</td>\n      <td>0.059</td>\n      <td>-0.443</td>\n      <td>4.50700</td>\n      <td>0.11600</td>\n      <td>-0.11600</td>\n      <td>874.8</td>\n      <td>35.5</td>\n      <td>-35.5</td>\n      <td>2.83</td>\n      <td>0.32</td>\n      <td>-0.19</td>\n      <td>443</td>\n      <td>9.11</td>\n      <td>2.87</td>\n      <td>-1.62</td>\n      <td>25.8</td>\n      <td>2</td>\n      <td>5455</td>\n      <td>81</td>\n      <td>-81</td>\n      <td>4.467</td>\n      <td>0.064</td>\n      <td>-0.096</td>\n      <td>0.927</td>\n      <td>0.105</td>\n      <td>-0.061</td>\n      <td>291.93423</td>\n      <td>48.141651</td>\n      <td>15.347</td>\n    </tr>\n    <tr>\n      <th>1</th>\n      <td>FALSE POSITIVE</td>\n      <td>0</td>\n      <td>1</td>\n      <td>0</td>\n      <td>0</td>\n      <td>19.899140</td>\n      <td>1.490000e-05</td>\n      <td>-1.490000e-05</td>\n      <td>175.850252</td>\n      <td>0.000581</td>\n      <td>-0.000581</td>\n      <td>0.969</td>\n      <td>5.126</td>\n      <td>-0.077</td>\n      <td>1.78220</td>\n      <td>0.03410</td>\n      <td>-0.03410</td>\n      <td>10829.0</td>\n      <td>171.0</td>\n      <td>-171.0</td>\n      <td>14.60</td>\n      <td>3.92</td>\n      <td>-1.31</td>\n      <td>638</td>\n      <td>39.30</td>\n      <td>31.04</td>\n      <td>-10.49</td>\n      <td>76.3</td>\n      <td>1</td>\n      <td>5853</td>\n      <td>158</td>\n      <td>-176</td>\n      <td>4.544</td>\n      <td>0.044</td>\n      <td>-0.176</td>\n      <td>0.868</td>\n      <td>0.233</td>\n      <td>-0.078</td>\n      <td>297.00482</td>\n      <td>48.134129</td>\n      <td>15.436</td>\n    </tr>\n    <tr>\n      <th>2</th>\n      <td>FALSE POSITIVE</td>\n      <td>0</td>\n      <td>1</td>\n      <td>0</td>\n      <td>0</td>\n      <td>1.736952</td>\n      <td>2.630000e-07</td>\n      <td>-2.630000e-07</td>\n      <td>170.307565</td>\n      <td>0.000115</td>\n      <td>-0.000115</td>\n      <td>1.276</td>\n      <td>0.115</td>\n      <td>-0.092</td>\n      <td>2.40641</td>\n      <td>0.00537</td>\n      <td>-0.00537</td>\n      <td>8079.2</td>\n      <td>12.8</td>\n      <td>-12.8</td>\n      <td>33.46</td>\n      <td>8.50</td>\n      <td>-2.83</td>\n      <td>1395</td>\n      <td>891.96</td>\n      <td>668.95</td>\n      <td>-230.35</td>\n      <td>505.6</td>\n      <td>1</td>\n      <td>5805</td>\n      <td>157</td>\n      <td>-174</td>\n      <td>4.564</td>\n      <td>0.053</td>\n      <td>-0.168</td>\n      <td>0.791</td>\n      <td>0.201</td>\n      <td>-0.067</td>\n      <td>285.53461</td>\n      <td>48.285210</td>\n      <td>15.597</td>\n    </tr>\n    <tr>\n      <th>3</th>\n      <td>CONFIRMED</td>\n      <td>0</td>\n      <td>0</td>\n      <td>0</td>\n      <td>0</td>\n      <td>2.525592</td>\n      <td>3.760000e-06</td>\n      <td>-3.760000e-06</td>\n      <td>171.595550</td>\n      <td>0.001130</td>\n      <td>-0.001130</td>\n      <td>0.701</td>\n      <td>0.235</td>\n      <td>-0.478</td>\n      <td>1.65450</td>\n      <td>0.04200</td>\n      <td>-0.04200</td>\n      <td>603.3</td>\n      <td>16.9</td>\n      <td>-16.9</td>\n      <td>2.75</td>\n      <td>0.88</td>\n      <td>-0.35</td>\n      <td>1406</td>\n      <td>926.16</td>\n      <td>874.33</td>\n      <td>-314.24</td>\n      <td>40.9</td>\n      <td>1</td>\n      <td>6031</td>\n      <td>169</td>\n      <td>-211</td>\n      <td>4.438</td>\n      <td>0.070</td>\n      <td>-0.210</td>\n      <td>1.046</td>\n      <td>0.334</td>\n      <td>-0.133</td>\n      <td>288.75488</td>\n      <td>48.226200</td>\n      <td>15.509</td>\n    </tr>\n    <tr>\n      <th>4</th>\n      <td>CONFIRMED</td>\n      <td>0</td>\n      <td>0</td>\n      <td>0</td>\n      <td>0</td>\n      <td>4.134435</td>\n      <td>1.050000e-05</td>\n      <td>-1.050000e-05</td>\n      <td>172.979370</td>\n      <td>0.001900</td>\n      <td>-0.001900</td>\n      <td>0.762</td>\n      <td>0.139</td>\n      <td>-0.532</td>\n      <td>3.14020</td>\n      <td>0.06730</td>\n      <td>-0.06730</td>\n      <td>686.0</td>\n      <td>18.7</td>\n      <td>-18.7</td>\n      <td>2.77</td>\n      <td>0.90</td>\n      <td>-0.30</td>\n      <td>1160</td>\n      <td>427.65</td>\n      <td>420.33</td>\n      <td>-136.70</td>\n      <td>40.2</td>\n      <td>2</td>\n      <td>6046</td>\n      <td>189</td>\n      <td>-232</td>\n      <td>4.486</td>\n      <td>0.054</td>\n      <td>-0.229</td>\n      <td>0.972</td>\n      <td>0.315</td>\n      <td>-0.105</td>\n      <td>296.28613</td>\n      <td>48.224670</td>\n      <td>15.714</td>\n    </tr>\n    <tr>\n      <th>5</th>\n      <td>CONFIRMED</td>\n      <td>0</td>\n      <td>0</td>\n      <td>0</td>\n      <td>0</td>\n      <td>2.566589</td>\n      <td>1.780000e-05</td>\n      <td>-1.780000e-05</td>\n      <td>179.554370</td>\n      <td>0.004610</td>\n      <td>-0.004610</td>\n      <td>0.755</td>\n      <td>0.212</td>\n      <td>-0.523</td>\n      <td>2.42900</td>\n      <td>0.16500</td>\n      <td>-0.16500</td>\n      <td>226.5</td>\n      <td>16.8</td>\n      <td>-16.8</td>\n      <td>1.59</td>\n      <td>0.52</td>\n      <td>-0.17</td>\n      <td>1360</td>\n      <td>807.74</td>\n      <td>793.91</td>\n      <td>-258.20</td>\n      <td>15.0</td>\n      <td>3</td>\n      <td>6046</td>\n      <td>189</td>\n      <td>-232</td>\n      <td>4.486</td>\n      <td>0.054</td>\n      <td>-0.229</td>\n      <td>0.972</td>\n      <td>0.315</td>\n      <td>-0.105</td>\n      <td>296.28613</td>\n      <td>48.224670</td>\n      <td>15.714</td>\n    </tr>\n    <tr>\n      <th>6</th>\n      <td>CONFIRMED</td>\n      <td>0</td>\n      <td>0</td>\n      <td>0</td>\n      <td>0</td>\n      <td>16.068647</td>\n      <td>1.090000e-05</td>\n      <td>-1.090000e-05</td>\n      <td>173.621937</td>\n      <td>0.000517</td>\n      <td>-0.000517</td>\n      <td>0.052</td>\n      <td>0.262</td>\n      <td>-0.052</td>\n      <td>3.53470</td>\n      <td>0.02410</td>\n      <td>-0.02410</td>\n      <td>4914.3</td>\n      <td>33.3</td>\n      <td>-33.3</td>\n      <td>5.76</td>\n      <td>0.22</td>\n      <td>-0.49</td>\n      <td>600</td>\n      <td>30.75</td>\n      <td>4.46</td>\n      <td>-6.66</td>\n      <td>161.9</td>\n      <td>1</td>\n      <td>5031</td>\n      <td>75</td>\n      <td>-83</td>\n      <td>4.485</td>\n      <td>0.083</td>\n      <td>-0.028</td>\n      <td>0.848</td>\n      <td>0.033</td>\n      <td>-0.072</td>\n      <td>286.99948</td>\n      <td>48.375790</td>\n      <td>15.841</td>\n    </tr>\n    <tr>\n      <th>7</th>\n      <td>CONFIRMED</td>\n      <td>0</td>\n      <td>0</td>\n      <td>0</td>\n      <td>0</td>\n      <td>2.470613</td>\n      <td>2.700000e-08</td>\n      <td>-2.700000e-08</td>\n      <td>122.763305</td>\n      <td>0.000009</td>\n      <td>-0.000009</td>\n      <td>0.818</td>\n      <td>0.001</td>\n      <td>-0.001</td>\n      <td>1.74319</td>\n      <td>0.00107</td>\n      <td>-0.00107</td>\n      <td>14231.0</td>\n      <td>4.2</td>\n      <td>-4.2</td>\n      <td>13.04</td>\n      <td>0.51</td>\n      <td>-0.51</td>\n      <td>1339</td>\n      <td>761.46</td>\n      <td>106.21</td>\n      <td>-95.76</td>\n      <td>4304.3</td>\n      <td>1</td>\n      <td>5820</td>\n      <td>78</td>\n      <td>-78</td>\n      <td>4.457</td>\n      <td>0.024</td>\n      <td>-0.024</td>\n      <td>0.964</td>\n      <td>0.038</td>\n      <td>-0.038</td>\n      <td>286.80847</td>\n      <td>49.316399</td>\n      <td>11.338</td>\n    </tr>\n    <tr>\n      <th>8</th>\n      <td>CONFIRMED</td>\n      <td>0</td>\n      <td>1</td>\n      <td>0</td>\n      <td>0</td>\n      <td>2.204735</td>\n      <td>4.300000e-08</td>\n      <td>-4.300000e-08</td>\n      <td>121.358542</td>\n      <td>0.000016</td>\n      <td>-0.000016</td>\n      <td>0.224</td>\n      <td>0.159</td>\n      <td>-0.216</td>\n      <td>3.88864</td>\n      <td>0.00203</td>\n      <td>-0.00203</td>\n      <td>6674.7</td>\n      <td>1.7</td>\n      <td>-1.7</td>\n      <td>16.10</td>\n      <td>0.81</td>\n      <td>-0.91</td>\n      <td>2048</td>\n      <td>4148.92</td>\n      <td>651.59</td>\n      <td>-654.46</td>\n      <td>5945.9</td>\n      <td>1</td>\n      <td>6440</td>\n      <td>76</td>\n      <td>-89</td>\n      <td>4.019</td>\n      <td>0.033</td>\n      <td>-0.027</td>\n      <td>1.952</td>\n      <td>0.099</td>\n      <td>-0.110</td>\n      <td>292.24728</td>\n      <td>47.969521</td>\n      <td>10.463</td>\n    </tr>\n    <tr>\n      <th>9</th>\n      <td>CONFIRMED</td>\n      <td>0</td>\n      <td>0</td>\n      <td>0</td>\n      <td>0</td>\n      <td>3.522498</td>\n      <td>1.980000e-07</td>\n      <td>-1.980000e-07</td>\n      <td>121.119423</td>\n      <td>0.000047</td>\n      <td>-0.000047</td>\n      <td>0.631</td>\n      <td>0.007</td>\n      <td>-0.007</td>\n      <td>3.19843</td>\n      <td>0.00653</td>\n      <td>-0.00653</td>\n      <td>9145.7</td>\n      <td>6.6</td>\n      <td>-6.6</td>\n      <td>14.59</td>\n      <td>1.11</td>\n      <td>-1.11</td>\n      <td>1521</td>\n      <td>1264.67</td>\n      <td>307.23</td>\n      <td>-276.48</td>\n      <td>1741.5</td>\n      <td>1</td>\n      <td>6225</td>\n      <td>112</td>\n      <td>-137</td>\n      <td>4.169</td>\n      <td>0.055</td>\n      <td>-0.045</td>\n      <td>1.451</td>\n      <td>0.110</td>\n      <td>-0.110</td>\n      <td>281.28812</td>\n      <td>42.451080</td>\n      <td>13.563</td>\n    </tr>\n  </tbody>\n</table>\n</div>"
     },
     "metadata": {},
     "execution_count": 4
    }
   ],
   "source": [
    "df = pd.read_csv(\"exoplanet_data.csv\")\n",
    "# Drop the null columns where all values are null\n",
    "df = df.dropna(axis='columns', how='all')\n",
    "pd.set_option('display.max_columns', None)\n",
    "# Drop the null rows\n",
    "df = df.dropna()\n",
    "df.head(10)"
   ]
  },
  {
   "cell_type": "markdown",
   "metadata": {},
   "source": [
    "# Select your features (columns)"
   ]
  },
  {
   "cell_type": "code",
   "execution_count": 6,
   "metadata": {},
   "outputs": [
    {
     "output_type": "execute_result",
     "data": {
      "text/plain": "   koi_fpflag_nt  koi_fpflag_ss  koi_fpflag_co  koi_fpflag_ec  koi_period  \\\n0              0              0              0              0   54.418383   \n1              0              1              0              0   19.899140   \n2              0              1              0              0    1.736952   \n3              0              0              0              0    2.525592   \n4              0              0              0              0    4.134435   \n5              0              0              0              0    2.566589   \n6              0              0              0              0   16.068647   \n7              0              0              0              0    2.470613   \n8              0              1              0              0    2.204735   \n9              0              0              0              0    3.522498   \n\n   koi_period_err1  koi_period_err2  koi_time0bk  koi_time0bk_err1  \\\n0     2.479000e-04    -2.479000e-04   162.513840          0.003520   \n1     1.490000e-05    -1.490000e-05   175.850252          0.000581   \n2     2.630000e-07    -2.630000e-07   170.307565          0.000115   \n3     3.760000e-06    -3.760000e-06   171.595550          0.001130   \n4     1.050000e-05    -1.050000e-05   172.979370          0.001900   \n5     1.780000e-05    -1.780000e-05   179.554370          0.004610   \n6     1.090000e-05    -1.090000e-05   173.621937          0.000517   \n7     2.700000e-08    -2.700000e-08   122.763305          0.000009   \n8     4.300000e-08    -4.300000e-08   121.358542          0.000016   \n9     1.980000e-07    -1.980000e-07   121.119423          0.000047   \n\n   koi_time0bk_err2  koi_impact  koi_impact_err1  koi_impact_err2  \\\n0         -0.003520       0.586            0.059           -0.443   \n1         -0.000581       0.969            5.126           -0.077   \n2         -0.000115       1.276            0.115           -0.092   \n3         -0.001130       0.701            0.235           -0.478   \n4         -0.001900       0.762            0.139           -0.532   \n5         -0.004610       0.755            0.212           -0.523   \n6         -0.000517       0.052            0.262           -0.052   \n7         -0.000009       0.818            0.001           -0.001   \n8         -0.000016       0.224            0.159           -0.216   \n9         -0.000047       0.631            0.007           -0.007   \n\n   koi_duration  koi_duration_err1  koi_duration_err2  koi_depth  \\\n0       4.50700            0.11600           -0.11600      874.8   \n1       1.78220            0.03410           -0.03410    10829.0   \n2       2.40641            0.00537           -0.00537     8079.2   \n3       1.65450            0.04200           -0.04200      603.3   \n4       3.14020            0.06730           -0.06730      686.0   \n5       2.42900            0.16500           -0.16500      226.5   \n6       3.53470            0.02410           -0.02410     4914.3   \n7       1.74319            0.00107           -0.00107    14231.0   \n8       3.88864            0.00203           -0.00203     6674.7   \n9       3.19843            0.00653           -0.00653     9145.7   \n\n   koi_depth_err1  koi_depth_err2  koi_prad  koi_prad_err1  koi_prad_err2  \\\n0            35.5           -35.5      2.83           0.32          -0.19   \n1           171.0          -171.0     14.60           3.92          -1.31   \n2            12.8           -12.8     33.46           8.50          -2.83   \n3            16.9           -16.9      2.75           0.88          -0.35   \n4            18.7           -18.7      2.77           0.90          -0.30   \n5            16.8           -16.8      1.59           0.52          -0.17   \n6            33.3           -33.3      5.76           0.22          -0.49   \n7             4.2            -4.2     13.04           0.51          -0.51   \n8             1.7            -1.7     16.10           0.81          -0.91   \n9             6.6            -6.6     14.59           1.11          -1.11   \n\n   koi_teq  koi_insol  koi_insol_err1  koi_insol_err2  koi_model_snr  \\\n0      443       9.11            2.87           -1.62           25.8   \n1      638      39.30           31.04          -10.49           76.3   \n2     1395     891.96          668.95         -230.35          505.6   \n3     1406     926.16          874.33         -314.24           40.9   \n4     1160     427.65          420.33         -136.70           40.2   \n5     1360     807.74          793.91         -258.20           15.0   \n6      600      30.75            4.46           -6.66          161.9   \n7     1339     761.46          106.21          -95.76         4304.3   \n8     2048    4148.92          651.59         -654.46         5945.9   \n9     1521    1264.67          307.23         -276.48         1741.5   \n\n   koi_steff  koi_steff_err1  koi_steff_err2  koi_slogg  koi_slogg_err1  \\\n0       5455              81             -81      4.467           0.064   \n1       5853             158            -176      4.544           0.044   \n2       5805             157            -174      4.564           0.053   \n3       6031             169            -211      4.438           0.070   \n4       6046             189            -232      4.486           0.054   \n5       6046             189            -232      4.486           0.054   \n6       5031              75             -83      4.485           0.083   \n7       5820              78             -78      4.457           0.024   \n8       6440              76             -89      4.019           0.033   \n9       6225             112            -137      4.169           0.055   \n\n   koi_slogg_err2  koi_srad  koi_srad_err1  koi_srad_err2         ra  \\\n0          -0.096     0.927          0.105         -0.061  291.93423   \n1          -0.176     0.868          0.233         -0.078  297.00482   \n2          -0.168     0.791          0.201         -0.067  285.53461   \n3          -0.210     1.046          0.334         -0.133  288.75488   \n4          -0.229     0.972          0.315         -0.105  296.28613   \n5          -0.229     0.972          0.315         -0.105  296.28613   \n6          -0.028     0.848          0.033         -0.072  286.99948   \n7          -0.024     0.964          0.038         -0.038  286.80847   \n8          -0.027     1.952          0.099         -0.110  292.24728   \n9          -0.045     1.451          0.110         -0.110  281.28812   \n\n         dec  koi_kepmag  \n0  48.141651      15.347  \n1  48.134129      15.436  \n2  48.285210      15.597  \n3  48.226200      15.509  \n4  48.224670      15.714  \n5  48.224670      15.714  \n6  48.375790      15.841  \n7  49.316399      11.338  \n8  47.969521      10.463  \n9  42.451080      13.563  ",
      "text/html": "<div>\n<style scoped>\n    .dataframe tbody tr th:only-of-type {\n        vertical-align: middle;\n    }\n\n    .dataframe tbody tr th {\n        vertical-align: top;\n    }\n\n    .dataframe thead th {\n        text-align: right;\n    }\n</style>\n<table border=\"1\" class=\"dataframe\">\n  <thead>\n    <tr style=\"text-align: right;\">\n      <th></th>\n      <th>koi_fpflag_nt</th>\n      <th>koi_fpflag_ss</th>\n      <th>koi_fpflag_co</th>\n      <th>koi_fpflag_ec</th>\n      <th>koi_period</th>\n      <th>koi_period_err1</th>\n      <th>koi_period_err2</th>\n      <th>koi_time0bk</th>\n      <th>koi_time0bk_err1</th>\n      <th>koi_time0bk_err2</th>\n      <th>koi_impact</th>\n      <th>koi_impact_err1</th>\n      <th>koi_impact_err2</th>\n      <th>koi_duration</th>\n      <th>koi_duration_err1</th>\n      <th>koi_duration_err2</th>\n      <th>koi_depth</th>\n      <th>koi_depth_err1</th>\n      <th>koi_depth_err2</th>\n      <th>koi_prad</th>\n      <th>koi_prad_err1</th>\n      <th>koi_prad_err2</th>\n      <th>koi_teq</th>\n      <th>koi_insol</th>\n      <th>koi_insol_err1</th>\n      <th>koi_insol_err2</th>\n      <th>koi_model_snr</th>\n      <th>koi_steff</th>\n      <th>koi_steff_err1</th>\n      <th>koi_steff_err2</th>\n      <th>koi_slogg</th>\n      <th>koi_slogg_err1</th>\n      <th>koi_slogg_err2</th>\n      <th>koi_srad</th>\n      <th>koi_srad_err1</th>\n      <th>koi_srad_err2</th>\n      <th>ra</th>\n      <th>dec</th>\n      <th>koi_kepmag</th>\n    </tr>\n  </thead>\n  <tbody>\n    <tr>\n      <th>0</th>\n      <td>0</td>\n      <td>0</td>\n      <td>0</td>\n      <td>0</td>\n      <td>54.418383</td>\n      <td>2.479000e-04</td>\n      <td>-2.479000e-04</td>\n      <td>162.513840</td>\n      <td>0.003520</td>\n      <td>-0.003520</td>\n      <td>0.586</td>\n      <td>0.059</td>\n      <td>-0.443</td>\n      <td>4.50700</td>\n      <td>0.11600</td>\n      <td>-0.11600</td>\n      <td>874.8</td>\n      <td>35.5</td>\n      <td>-35.5</td>\n      <td>2.83</td>\n      <td>0.32</td>\n      <td>-0.19</td>\n      <td>443</td>\n      <td>9.11</td>\n      <td>2.87</td>\n      <td>-1.62</td>\n      <td>25.8</td>\n      <td>5455</td>\n      <td>81</td>\n      <td>-81</td>\n      <td>4.467</td>\n      <td>0.064</td>\n      <td>-0.096</td>\n      <td>0.927</td>\n      <td>0.105</td>\n      <td>-0.061</td>\n      <td>291.93423</td>\n      <td>48.141651</td>\n      <td>15.347</td>\n    </tr>\n    <tr>\n      <th>1</th>\n      <td>0</td>\n      <td>1</td>\n      <td>0</td>\n      <td>0</td>\n      <td>19.899140</td>\n      <td>1.490000e-05</td>\n      <td>-1.490000e-05</td>\n      <td>175.850252</td>\n      <td>0.000581</td>\n      <td>-0.000581</td>\n      <td>0.969</td>\n      <td>5.126</td>\n      <td>-0.077</td>\n      <td>1.78220</td>\n      <td>0.03410</td>\n      <td>-0.03410</td>\n      <td>10829.0</td>\n      <td>171.0</td>\n      <td>-171.0</td>\n      <td>14.60</td>\n      <td>3.92</td>\n      <td>-1.31</td>\n      <td>638</td>\n      <td>39.30</td>\n      <td>31.04</td>\n      <td>-10.49</td>\n      <td>76.3</td>\n      <td>5853</td>\n      <td>158</td>\n      <td>-176</td>\n      <td>4.544</td>\n      <td>0.044</td>\n      <td>-0.176</td>\n      <td>0.868</td>\n      <td>0.233</td>\n      <td>-0.078</td>\n      <td>297.00482</td>\n      <td>48.134129</td>\n      <td>15.436</td>\n    </tr>\n    <tr>\n      <th>2</th>\n      <td>0</td>\n      <td>1</td>\n      <td>0</td>\n      <td>0</td>\n      <td>1.736952</td>\n      <td>2.630000e-07</td>\n      <td>-2.630000e-07</td>\n      <td>170.307565</td>\n      <td>0.000115</td>\n      <td>-0.000115</td>\n      <td>1.276</td>\n      <td>0.115</td>\n      <td>-0.092</td>\n      <td>2.40641</td>\n      <td>0.00537</td>\n      <td>-0.00537</td>\n      <td>8079.2</td>\n      <td>12.8</td>\n      <td>-12.8</td>\n      <td>33.46</td>\n      <td>8.50</td>\n      <td>-2.83</td>\n      <td>1395</td>\n      <td>891.96</td>\n      <td>668.95</td>\n      <td>-230.35</td>\n      <td>505.6</td>\n      <td>5805</td>\n      <td>157</td>\n      <td>-174</td>\n      <td>4.564</td>\n      <td>0.053</td>\n      <td>-0.168</td>\n      <td>0.791</td>\n      <td>0.201</td>\n      <td>-0.067</td>\n      <td>285.53461</td>\n      <td>48.285210</td>\n      <td>15.597</td>\n    </tr>\n    <tr>\n      <th>3</th>\n      <td>0</td>\n      <td>0</td>\n      <td>0</td>\n      <td>0</td>\n      <td>2.525592</td>\n      <td>3.760000e-06</td>\n      <td>-3.760000e-06</td>\n      <td>171.595550</td>\n      <td>0.001130</td>\n      <td>-0.001130</td>\n      <td>0.701</td>\n      <td>0.235</td>\n      <td>-0.478</td>\n      <td>1.65450</td>\n      <td>0.04200</td>\n      <td>-0.04200</td>\n      <td>603.3</td>\n      <td>16.9</td>\n      <td>-16.9</td>\n      <td>2.75</td>\n      <td>0.88</td>\n      <td>-0.35</td>\n      <td>1406</td>\n      <td>926.16</td>\n      <td>874.33</td>\n      <td>-314.24</td>\n      <td>40.9</td>\n      <td>6031</td>\n      <td>169</td>\n      <td>-211</td>\n      <td>4.438</td>\n      <td>0.070</td>\n      <td>-0.210</td>\n      <td>1.046</td>\n      <td>0.334</td>\n      <td>-0.133</td>\n      <td>288.75488</td>\n      <td>48.226200</td>\n      <td>15.509</td>\n    </tr>\n    <tr>\n      <th>4</th>\n      <td>0</td>\n      <td>0</td>\n      <td>0</td>\n      <td>0</td>\n      <td>4.134435</td>\n      <td>1.050000e-05</td>\n      <td>-1.050000e-05</td>\n      <td>172.979370</td>\n      <td>0.001900</td>\n      <td>-0.001900</td>\n      <td>0.762</td>\n      <td>0.139</td>\n      <td>-0.532</td>\n      <td>3.14020</td>\n      <td>0.06730</td>\n      <td>-0.06730</td>\n      <td>686.0</td>\n      <td>18.7</td>\n      <td>-18.7</td>\n      <td>2.77</td>\n      <td>0.90</td>\n      <td>-0.30</td>\n      <td>1160</td>\n      <td>427.65</td>\n      <td>420.33</td>\n      <td>-136.70</td>\n      <td>40.2</td>\n      <td>6046</td>\n      <td>189</td>\n      <td>-232</td>\n      <td>4.486</td>\n      <td>0.054</td>\n      <td>-0.229</td>\n      <td>0.972</td>\n      <td>0.315</td>\n      <td>-0.105</td>\n      <td>296.28613</td>\n      <td>48.224670</td>\n      <td>15.714</td>\n    </tr>\n    <tr>\n      <th>5</th>\n      <td>0</td>\n      <td>0</td>\n      <td>0</td>\n      <td>0</td>\n      <td>2.566589</td>\n      <td>1.780000e-05</td>\n      <td>-1.780000e-05</td>\n      <td>179.554370</td>\n      <td>0.004610</td>\n      <td>-0.004610</td>\n      <td>0.755</td>\n      <td>0.212</td>\n      <td>-0.523</td>\n      <td>2.42900</td>\n      <td>0.16500</td>\n      <td>-0.16500</td>\n      <td>226.5</td>\n      <td>16.8</td>\n      <td>-16.8</td>\n      <td>1.59</td>\n      <td>0.52</td>\n      <td>-0.17</td>\n      <td>1360</td>\n      <td>807.74</td>\n      <td>793.91</td>\n      <td>-258.20</td>\n      <td>15.0</td>\n      <td>6046</td>\n      <td>189</td>\n      <td>-232</td>\n      <td>4.486</td>\n      <td>0.054</td>\n      <td>-0.229</td>\n      <td>0.972</td>\n      <td>0.315</td>\n      <td>-0.105</td>\n      <td>296.28613</td>\n      <td>48.224670</td>\n      <td>15.714</td>\n    </tr>\n    <tr>\n      <th>6</th>\n      <td>0</td>\n      <td>0</td>\n      <td>0</td>\n      <td>0</td>\n      <td>16.068647</td>\n      <td>1.090000e-05</td>\n      <td>-1.090000e-05</td>\n      <td>173.621937</td>\n      <td>0.000517</td>\n      <td>-0.000517</td>\n      <td>0.052</td>\n      <td>0.262</td>\n      <td>-0.052</td>\n      <td>3.53470</td>\n      <td>0.02410</td>\n      <td>-0.02410</td>\n      <td>4914.3</td>\n      <td>33.3</td>\n      <td>-33.3</td>\n      <td>5.76</td>\n      <td>0.22</td>\n      <td>-0.49</td>\n      <td>600</td>\n      <td>30.75</td>\n      <td>4.46</td>\n      <td>-6.66</td>\n      <td>161.9</td>\n      <td>5031</td>\n      <td>75</td>\n      <td>-83</td>\n      <td>4.485</td>\n      <td>0.083</td>\n      <td>-0.028</td>\n      <td>0.848</td>\n      <td>0.033</td>\n      <td>-0.072</td>\n      <td>286.99948</td>\n      <td>48.375790</td>\n      <td>15.841</td>\n    </tr>\n    <tr>\n      <th>7</th>\n      <td>0</td>\n      <td>0</td>\n      <td>0</td>\n      <td>0</td>\n      <td>2.470613</td>\n      <td>2.700000e-08</td>\n      <td>-2.700000e-08</td>\n      <td>122.763305</td>\n      <td>0.000009</td>\n      <td>-0.000009</td>\n      <td>0.818</td>\n      <td>0.001</td>\n      <td>-0.001</td>\n      <td>1.74319</td>\n      <td>0.00107</td>\n      <td>-0.00107</td>\n      <td>14231.0</td>\n      <td>4.2</td>\n      <td>-4.2</td>\n      <td>13.04</td>\n      <td>0.51</td>\n      <td>-0.51</td>\n      <td>1339</td>\n      <td>761.46</td>\n      <td>106.21</td>\n      <td>-95.76</td>\n      <td>4304.3</td>\n      <td>5820</td>\n      <td>78</td>\n      <td>-78</td>\n      <td>4.457</td>\n      <td>0.024</td>\n      <td>-0.024</td>\n      <td>0.964</td>\n      <td>0.038</td>\n      <td>-0.038</td>\n      <td>286.80847</td>\n      <td>49.316399</td>\n      <td>11.338</td>\n    </tr>\n    <tr>\n      <th>8</th>\n      <td>0</td>\n      <td>1</td>\n      <td>0</td>\n      <td>0</td>\n      <td>2.204735</td>\n      <td>4.300000e-08</td>\n      <td>-4.300000e-08</td>\n      <td>121.358542</td>\n      <td>0.000016</td>\n      <td>-0.000016</td>\n      <td>0.224</td>\n      <td>0.159</td>\n      <td>-0.216</td>\n      <td>3.88864</td>\n      <td>0.00203</td>\n      <td>-0.00203</td>\n      <td>6674.7</td>\n      <td>1.7</td>\n      <td>-1.7</td>\n      <td>16.10</td>\n      <td>0.81</td>\n      <td>-0.91</td>\n      <td>2048</td>\n      <td>4148.92</td>\n      <td>651.59</td>\n      <td>-654.46</td>\n      <td>5945.9</td>\n      <td>6440</td>\n      <td>76</td>\n      <td>-89</td>\n      <td>4.019</td>\n      <td>0.033</td>\n      <td>-0.027</td>\n      <td>1.952</td>\n      <td>0.099</td>\n      <td>-0.110</td>\n      <td>292.24728</td>\n      <td>47.969521</td>\n      <td>10.463</td>\n    </tr>\n    <tr>\n      <th>9</th>\n      <td>0</td>\n      <td>0</td>\n      <td>0</td>\n      <td>0</td>\n      <td>3.522498</td>\n      <td>1.980000e-07</td>\n      <td>-1.980000e-07</td>\n      <td>121.119423</td>\n      <td>0.000047</td>\n      <td>-0.000047</td>\n      <td>0.631</td>\n      <td>0.007</td>\n      <td>-0.007</td>\n      <td>3.19843</td>\n      <td>0.00653</td>\n      <td>-0.00653</td>\n      <td>9145.7</td>\n      <td>6.6</td>\n      <td>-6.6</td>\n      <td>14.59</td>\n      <td>1.11</td>\n      <td>-1.11</td>\n      <td>1521</td>\n      <td>1264.67</td>\n      <td>307.23</td>\n      <td>-276.48</td>\n      <td>1741.5</td>\n      <td>6225</td>\n      <td>112</td>\n      <td>-137</td>\n      <td>4.169</td>\n      <td>0.055</td>\n      <td>-0.045</td>\n      <td>1.451</td>\n      <td>0.110</td>\n      <td>-0.110</td>\n      <td>281.28812</td>\n      <td>42.451080</td>\n      <td>13.563</td>\n    </tr>\n  </tbody>\n</table>\n</div>"
     },
     "metadata": {},
     "execution_count": 6
    }
   ],
   "source": [
    "# Set features. This will be used as your x values.\n",
    "selected_features = df[['koi_fpflag_nt','koi_fpflag_ss','koi_fpflag_co','koi_fpflag_ec',\n",
    "                        'koi_period','koi_period_err1','koi_period_err2',\n",
    "                        'koi_time0bk','koi_time0bk_err1','koi_time0bk_err2',\n",
    "                        'koi_impact','koi_impact_err1','koi_impact_err2',\n",
    "                        'koi_duration','koi_duration_err1','koi_duration_err2',\n",
    "                        'koi_depth','koi_depth_err1','koi_depth_err2',\n",
    "                        'koi_prad','koi_prad_err1','koi_prad_err2',\n",
    "                        'koi_teq','koi_insol','koi_insol_err1','koi_insol_err2',\n",
    "                        'koi_model_snr','koi_steff','koi_steff_err1','koi_steff_err2',\n",
    "                        'koi_slogg','koi_slogg_err1','koi_slogg_err2',\n",
    "                        'koi_srad','koi_srad_err1','koi_srad_err2',\n",
    "                        'ra','dec','koi_kepmag']]\n",
    "selected_features.head(10)"
   ]
  },
  {
   "cell_type": "markdown",
   "metadata": {},
   "source": [
    "# Create a Train Test Split\n",
    "\n",
    "Use `koi_disposition` for the y values"
   ]
  },
  {
   "cell_type": "code",
   "execution_count": 7,
   "metadata": {},
   "outputs": [],
   "source": [
    "# X and y variables\n",
    "y = df[\"koi_disposition\"]\n",
    "X = selected_features"
   ]
  },
  {
   "cell_type": "code",
   "execution_count": 8,
   "metadata": {},
   "outputs": [],
   "source": [
    "#Test Train Split\n",
    "from sklearn.model_selection import train_test_split\n",
    "\n",
    "X_train, X_test, y_train, y_test = train_test_split(X, y, random_state=42, stratify=y)"
   ]
  },
  {
   "cell_type": "code",
   "execution_count": 9,
   "metadata": {},
   "outputs": [
    {
     "output_type": "execute_result",
     "data": {
      "text/plain": "      koi_fpflag_nt  koi_fpflag_ss  koi_fpflag_co  koi_fpflag_ec  koi_period  \\\n6080              1              0              0              0   12.496435   \n3001              0              0              0              0   11.615625   \n570               0              1              0              0   10.980246   \n4897              1              0              0              0  466.908240   \n625               0              1              1              1    1.061933   \n\n      koi_period_err1  koi_period_err2  koi_time0bk  koi_time0bk_err1  \\\n6080     2.213000e-04    -2.213000e-04   132.035800          0.014300   \n3001     1.528000e-04    -1.528000e-04   131.968430          0.008230   \n570      6.930000e-07    -6.930000e-07   137.137607          0.000053   \n4897     1.194000e-02    -1.194000e-02   136.373100          0.019000   \n625      1.250000e-06    -1.250000e-06   133.850441          0.000978   \n\n      koi_time0bk_err2  koi_impact  koi_impact_err1  koi_impact_err2  \\\n6080         -0.014300      1.1700            0.078          -0.0850   \n3001         -0.008230      0.9770            0.007          -0.7050   \n570          -0.000053      0.7330            0.001          -0.0010   \n4897         -0.019000      0.0868            0.433          -0.0867   \n625          -0.000978      0.7130            0.112          -0.2160   \n\n      koi_duration  koi_duration_err1  koi_duration_err2  koi_depth  \\\n6080      84.32000             1.2000            -1.2000      271.7   \n3001       2.23300             0.3620            -0.3620      191.2   \n570        3.74464             0.0034            -0.0034    50078.0   \n4897       2.64000             0.6930            -0.6930      660.0   \n625        2.14290             0.0386            -0.0386      133.6   \n\n      koi_depth_err1  koi_depth_err2  koi_prad  koi_prad_err1  koi_prad_err2  \\\n6080             2.5            -2.5     55.34          10.84         -25.30   \n3001            28.0           -28.0      2.84           0.43          -1.00   \n570             44.7           -44.7     21.94           5.82          -2.91   \n4897           183.0          -183.0      2.19           1.13          -0.26   \n625              2.0            -2.0      2.29           0.48          -0.71   \n\n      koi_teq  koi_insol  koi_insol_err1  koi_insol_err2  koi_model_snr  \\\n6080     1397     899.44          536.52         -676.12          141.5   \n3001      905     158.69           65.40          -95.39            8.8   \n570       821     107.47           83.74          -34.92         1555.4   \n4897      210       0.46            0.76           -0.14            5.4   \n625      2508    9391.15         5840.09        -5394.87           80.2   \n\n      koi_steff  koi_steff_err1  koi_steff_err2  koi_slogg  koi_slogg_err1  \\\n6080       6821             190            -286      3.805           0.390   \n3001       5332              88             -72      4.083           0.368   \n570        5952             159            -159      4.462           0.098   \n4897       5340             185            -146      4.456           0.102   \n625        6134             167            -167      3.975           0.259   \n\n      koi_slogg_err2  koi_srad  koi_srad_err1  koi_srad_err2         ra  \\\n6080          -0.130     2.730          0.535         -1.248  289.23080   \n3001          -0.092     1.453          0.218         -0.510  293.52756   \n570           -0.182     0.897          0.238         -0.119  282.79764   \n4897          -0.361     0.867          0.448         -0.103  297.65436   \n625           -0.111     1.851          0.383         -0.575  288.90253   \n\n            dec  koi_kepmag  \n6080  44.412483      13.054  \n3001  41.111439      15.162  \n570   43.578129      14.212  \n4897  43.178551      15.202  \n625   44.632992      12.953  ",
      "text/html": "<div>\n<style scoped>\n    .dataframe tbody tr th:only-of-type {\n        vertical-align: middle;\n    }\n\n    .dataframe tbody tr th {\n        vertical-align: top;\n    }\n\n    .dataframe thead th {\n        text-align: right;\n    }\n</style>\n<table border=\"1\" class=\"dataframe\">\n  <thead>\n    <tr style=\"text-align: right;\">\n      <th></th>\n      <th>koi_fpflag_nt</th>\n      <th>koi_fpflag_ss</th>\n      <th>koi_fpflag_co</th>\n      <th>koi_fpflag_ec</th>\n      <th>koi_period</th>\n      <th>koi_period_err1</th>\n      <th>koi_period_err2</th>\n      <th>koi_time0bk</th>\n      <th>koi_time0bk_err1</th>\n      <th>koi_time0bk_err2</th>\n      <th>koi_impact</th>\n      <th>koi_impact_err1</th>\n      <th>koi_impact_err2</th>\n      <th>koi_duration</th>\n      <th>koi_duration_err1</th>\n      <th>koi_duration_err2</th>\n      <th>koi_depth</th>\n      <th>koi_depth_err1</th>\n      <th>koi_depth_err2</th>\n      <th>koi_prad</th>\n      <th>koi_prad_err1</th>\n      <th>koi_prad_err2</th>\n      <th>koi_teq</th>\n      <th>koi_insol</th>\n      <th>koi_insol_err1</th>\n      <th>koi_insol_err2</th>\n      <th>koi_model_snr</th>\n      <th>koi_steff</th>\n      <th>koi_steff_err1</th>\n      <th>koi_steff_err2</th>\n      <th>koi_slogg</th>\n      <th>koi_slogg_err1</th>\n      <th>koi_slogg_err2</th>\n      <th>koi_srad</th>\n      <th>koi_srad_err1</th>\n      <th>koi_srad_err2</th>\n      <th>ra</th>\n      <th>dec</th>\n      <th>koi_kepmag</th>\n    </tr>\n  </thead>\n  <tbody>\n    <tr>\n      <th>6080</th>\n      <td>1</td>\n      <td>0</td>\n      <td>0</td>\n      <td>0</td>\n      <td>12.496435</td>\n      <td>2.213000e-04</td>\n      <td>-2.213000e-04</td>\n      <td>132.035800</td>\n      <td>0.014300</td>\n      <td>-0.014300</td>\n      <td>1.1700</td>\n      <td>0.078</td>\n      <td>-0.0850</td>\n      <td>84.32000</td>\n      <td>1.2000</td>\n      <td>-1.2000</td>\n      <td>271.7</td>\n      <td>2.5</td>\n      <td>-2.5</td>\n      <td>55.34</td>\n      <td>10.84</td>\n      <td>-25.30</td>\n      <td>1397</td>\n      <td>899.44</td>\n      <td>536.52</td>\n      <td>-676.12</td>\n      <td>141.5</td>\n      <td>6821</td>\n      <td>190</td>\n      <td>-286</td>\n      <td>3.805</td>\n      <td>0.390</td>\n      <td>-0.130</td>\n      <td>2.730</td>\n      <td>0.535</td>\n      <td>-1.248</td>\n      <td>289.23080</td>\n      <td>44.412483</td>\n      <td>13.054</td>\n    </tr>\n    <tr>\n      <th>3001</th>\n      <td>0</td>\n      <td>0</td>\n      <td>0</td>\n      <td>0</td>\n      <td>11.615625</td>\n      <td>1.528000e-04</td>\n      <td>-1.528000e-04</td>\n      <td>131.968430</td>\n      <td>0.008230</td>\n      <td>-0.008230</td>\n      <td>0.9770</td>\n      <td>0.007</td>\n      <td>-0.7050</td>\n      <td>2.23300</td>\n      <td>0.3620</td>\n      <td>-0.3620</td>\n      <td>191.2</td>\n      <td>28.0</td>\n      <td>-28.0</td>\n      <td>2.84</td>\n      <td>0.43</td>\n      <td>-1.00</td>\n      <td>905</td>\n      <td>158.69</td>\n      <td>65.40</td>\n      <td>-95.39</td>\n      <td>8.8</td>\n      <td>5332</td>\n      <td>88</td>\n      <td>-72</td>\n      <td>4.083</td>\n      <td>0.368</td>\n      <td>-0.092</td>\n      <td>1.453</td>\n      <td>0.218</td>\n      <td>-0.510</td>\n      <td>293.52756</td>\n      <td>41.111439</td>\n      <td>15.162</td>\n    </tr>\n    <tr>\n      <th>570</th>\n      <td>0</td>\n      <td>1</td>\n      <td>0</td>\n      <td>0</td>\n      <td>10.980246</td>\n      <td>6.930000e-07</td>\n      <td>-6.930000e-07</td>\n      <td>137.137607</td>\n      <td>0.000053</td>\n      <td>-0.000053</td>\n      <td>0.7330</td>\n      <td>0.001</td>\n      <td>-0.0010</td>\n      <td>3.74464</td>\n      <td>0.0034</td>\n      <td>-0.0034</td>\n      <td>50078.0</td>\n      <td>44.7</td>\n      <td>-44.7</td>\n      <td>21.94</td>\n      <td>5.82</td>\n      <td>-2.91</td>\n      <td>821</td>\n      <td>107.47</td>\n      <td>83.74</td>\n      <td>-34.92</td>\n      <td>1555.4</td>\n      <td>5952</td>\n      <td>159</td>\n      <td>-159</td>\n      <td>4.462</td>\n      <td>0.098</td>\n      <td>-0.182</td>\n      <td>0.897</td>\n      <td>0.238</td>\n      <td>-0.119</td>\n      <td>282.79764</td>\n      <td>43.578129</td>\n      <td>14.212</td>\n    </tr>\n    <tr>\n      <th>4897</th>\n      <td>1</td>\n      <td>0</td>\n      <td>0</td>\n      <td>0</td>\n      <td>466.908240</td>\n      <td>1.194000e-02</td>\n      <td>-1.194000e-02</td>\n      <td>136.373100</td>\n      <td>0.019000</td>\n      <td>-0.019000</td>\n      <td>0.0868</td>\n      <td>0.433</td>\n      <td>-0.0867</td>\n      <td>2.64000</td>\n      <td>0.6930</td>\n      <td>-0.6930</td>\n      <td>660.0</td>\n      <td>183.0</td>\n      <td>-183.0</td>\n      <td>2.19</td>\n      <td>1.13</td>\n      <td>-0.26</td>\n      <td>210</td>\n      <td>0.46</td>\n      <td>0.76</td>\n      <td>-0.14</td>\n      <td>5.4</td>\n      <td>5340</td>\n      <td>185</td>\n      <td>-146</td>\n      <td>4.456</td>\n      <td>0.102</td>\n      <td>-0.361</td>\n      <td>0.867</td>\n      <td>0.448</td>\n      <td>-0.103</td>\n      <td>297.65436</td>\n      <td>43.178551</td>\n      <td>15.202</td>\n    </tr>\n    <tr>\n      <th>625</th>\n      <td>0</td>\n      <td>1</td>\n      <td>1</td>\n      <td>1</td>\n      <td>1.061933</td>\n      <td>1.250000e-06</td>\n      <td>-1.250000e-06</td>\n      <td>133.850441</td>\n      <td>0.000978</td>\n      <td>-0.000978</td>\n      <td>0.7130</td>\n      <td>0.112</td>\n      <td>-0.2160</td>\n      <td>2.14290</td>\n      <td>0.0386</td>\n      <td>-0.0386</td>\n      <td>133.6</td>\n      <td>2.0</td>\n      <td>-2.0</td>\n      <td>2.29</td>\n      <td>0.48</td>\n      <td>-0.71</td>\n      <td>2508</td>\n      <td>9391.15</td>\n      <td>5840.09</td>\n      <td>-5394.87</td>\n      <td>80.2</td>\n      <td>6134</td>\n      <td>167</td>\n      <td>-167</td>\n      <td>3.975</td>\n      <td>0.259</td>\n      <td>-0.111</td>\n      <td>1.851</td>\n      <td>0.383</td>\n      <td>-0.575</td>\n      <td>288.90253</td>\n      <td>44.632992</td>\n      <td>12.953</td>\n    </tr>\n  </tbody>\n</table>\n</div>"
     },
     "metadata": {},
     "execution_count": 9
    }
   ],
   "source": [
    "X_train.head()"
   ]
  },
  {
   "cell_type": "markdown",
   "metadata": {},
   "source": [
    "# Pre-processing\n",
    "\n",
    "Scale the data using the MinMaxScaler and perform some feature selection"
   ]
  },
  {
   "cell_type": "code",
   "execution_count": 10,
   "metadata": {},
   "outputs": [
    {
     "output_type": "error",
     "ename": "ModuleNotFoundError",
     "evalue": "No module named 'tensorflow'",
     "traceback": [
      "\u001b[0;31m---------------------------------------------------------------------------\u001b[0m",
      "\u001b[0;31mModuleNotFoundError\u001b[0m                       Traceback (most recent call last)",
      "\u001b[0;32m<ipython-input-10-d4d9992acae4>\u001b[0m in \u001b[0;36m<module>\u001b[0;34m\u001b[0m\n\u001b[1;32m      2\u001b[0m \u001b[0;32mfrom\u001b[0m \u001b[0msklearn\u001b[0m\u001b[0;34m.\u001b[0m\u001b[0mmodel_selection\u001b[0m \u001b[0;32mimport\u001b[0m \u001b[0mtrain_test_split\u001b[0m\u001b[0;34m\u001b[0m\u001b[0;34m\u001b[0m\u001b[0m\n\u001b[1;32m      3\u001b[0m \u001b[0;32mfrom\u001b[0m \u001b[0msklearn\u001b[0m\u001b[0;34m.\u001b[0m\u001b[0mpreprocessing\u001b[0m \u001b[0;32mimport\u001b[0m \u001b[0mLabelEncoder\u001b[0m\u001b[0;34m,\u001b[0m \u001b[0mMinMaxScaler\u001b[0m\u001b[0;34m\u001b[0m\u001b[0;34m\u001b[0m\u001b[0m\n\u001b[0;32m----> 4\u001b[0;31m \u001b[0;32mfrom\u001b[0m \u001b[0mtensorflow\u001b[0m\u001b[0;34m.\u001b[0m\u001b[0mkeras\u001b[0m\u001b[0;34m.\u001b[0m\u001b[0mutils\u001b[0m \u001b[0;32mimport\u001b[0m \u001b[0mto_categorical\u001b[0m\u001b[0;34m\u001b[0m\u001b[0;34m\u001b[0m\u001b[0m\n\u001b[0m",
      "\u001b[0;31mModuleNotFoundError\u001b[0m: No module named 'tensorflow'"
     ]
    }
   ],
   "source": [
    "#import dependencies \n",
    "from sklearn.model_selection import train_test_split\n",
    "from sklearn.preprocessing import LabelEncoder, MinMaxScaler\n",
    "from tensorflow.keras.utils import to_categorical "
   ]
  },
  {
   "cell_type": "code",
   "execution_count": 11,
   "metadata": {},
   "outputs": [],
   "source": [
    "#Scale\n",
    "#X_train, X_test, y_train, y_test = train_test_split(X, y, random_state=1)\n",
    "X_scaler = MinMaxScaler().fit(X_train)\n",
    "X_train_scaled = X_scaler.transform(X_train)\n",
    "X_test_scaled = X_scaler.transform(X_test)"
   ]
  },
  {
   "cell_type": "code",
   "execution_count": 12,
   "metadata": {
    "tags": []
   },
   "outputs": [
    {
     "output_type": "stream",
     "name": "stdout",
     "text": "[0 2 2 ... 2 2 1]\n"
    }
   ],
   "source": [
    "#Label-encode data set\n",
    "label_encoder = LabelEncoder()\n",
    "label_encoder.fit(y_train)\n",
    "encoded_y_train = label_encoder.transform(y_train)\n",
    "encoded_y_test = label_encoder.transform(y_test)\n",
    "\n",
    "\n",
    "print(encoded_y_test)"
   ]
  },
  {
   "cell_type": "markdown",
   "metadata": {},
   "source": [
    "# Train the Model\n",
    "\n"
   ]
  },
  {
   "cell_type": "code",
   "execution_count": 13,
   "metadata": {},
   "outputs": [
    {
     "output_type": "execute_result",
     "data": {
      "text/plain": "LogisticRegression(C=1.0, class_weight=None, dual=False, fit_intercept=True,\n                   intercept_scaling=1, l1_ratio=None, max_iter=100,\n                   multi_class='auto', n_jobs=None, penalty='l2',\n                   random_state=None, solver='lbfgs', tol=0.0001, verbose=0,\n                   warm_start=False)"
     },
     "metadata": {},
     "execution_count": 13
    }
   ],
   "source": [
    "#Train the model using logistic regression \n",
    "from sklearn.linear_model import LogisticRegression\n",
    "model = LogisticRegression()\n",
    "model"
   ]
  },
  {
   "cell_type": "code",
   "execution_count": 14,
   "metadata": {},
   "outputs": [
    {
     "output_type": "execute_result",
     "data": {
      "text/plain": "array([0, 2, 2, ..., 2, 2, 1])"
     },
     "metadata": {},
     "execution_count": 14
    }
   ],
   "source": [
    "#Fit the data to the model and make predictions:\n",
    "model.fit(X_train_scaled, encoded_y_train)\n",
    "predictions = model.predict(X_test_scaled)\n",
    "predictions"
   ]
  },
  {
   "cell_type": "code",
   "execution_count": 15,
   "metadata": {
    "tags": []
   },
   "outputs": [
    {
     "output_type": "stream",
     "name": "stdout",
     "text": "Training Data Score: 0.8573335876406637\nTesting Data Score: 0.8575514874141876\n"
    }
   ],
   "source": [
    "print(f\"Training Data Score: {model.score(X_train_scaled, encoded_y_train)}\")\n",
    "print(f\"Testing Data Score: {model.score(X_test_scaled, encoded_y_test)}\")"
   ]
  },
  {
   "cell_type": "code",
   "execution_count": 19,
   "metadata": {
    "tags": []
   },
   "outputs": [
    {
     "output_type": "stream",
     "name": "stdout",
     "text": "precision    recall  f1-score   support\n\n     Confirmed       0.77      0.62      0.69       422\nFalse Positive       0.70      0.80      0.75       450\n     Candidate       0.99      1.00      0.99       876\n\n      accuracy                           0.86      1748\n     macro avg       0.82      0.81      0.81      1748\n  weighted avg       0.86      0.86      0.86      1748\n\n"
    }
   ],
   "source": [
    "# classification report?\n",
    "from sklearn.metrics import classification_report\n",
    "predictions = model.predict(X_test_scaled)\n",
    "print(classification_report(encoded_y_test, predictions,\n",
    "                            target_names=[\"Confirmed\", \"False Positive\", \"Candidate\" ]))"
   ]
  },
  {
   "cell_type": "markdown",
   "metadata": {},
   "source": [
    "# Hyperparameter Tuning\n",
    "\n",
    "Use `GridSearchCV` to tune the model's parameters"
   ]
  },
  {
   "cell_type": "code",
   "execution_count": 20,
   "metadata": {},
   "outputs": [],
   "source": [
    "# Create the GridSearchCV model\n",
    "\n",
    "from sklearn.model_selection import GridSearchCV\n",
    "param_grid = {'C': [10, 50, 100],\n",
    "             'max_iter':[200, 500, 1000]}\n",
    "grid = GridSearchCV(model,param_grid, verbose=3)"
   ]
  },
  {
   "cell_type": "code",
   "execution_count": 21,
   "metadata": {
    "tags": []
   },
   "outputs": [
    {
     "output_type": "stream",
     "name": "stdout",
     "text": "Fitting 5 folds for each of 9 candidates, totalling 45 fits\n[CV] C=10, max_iter=200 ..............................................\n[Parallel(n_jobs=1)]: Using backend SequentialBackend with 1 concurrent workers.\n[CV] .................. C=10, max_iter=200, score=0.875, total=   0.5s\n[CV] C=10, max_iter=200 ..............................................\n[Parallel(n_jobs=1)]: Done   1 out of   1 | elapsed:    0.5s remaining:    0.0s\n[CV] .................. C=10, max_iter=200, score=0.875, total=   0.5s\n[CV] C=10, max_iter=200 ..............................................\n[Parallel(n_jobs=1)]: Done   2 out of   2 | elapsed:    1.0s remaining:    0.0s\n[CV] .................. C=10, max_iter=200, score=0.861, total=   0.5s\n[CV] C=10, max_iter=200 ..............................................\n[CV] .................. C=10, max_iter=200, score=0.883, total=   0.5s\n[CV] C=10, max_iter=200 ..............................................\n[CV] .................. C=10, max_iter=200, score=0.865, total=   0.9s\n[CV] C=10, max_iter=500 ..............................................\n[CV] .................. C=10, max_iter=500, score=0.873, total=   1.2s\n[CV] C=10, max_iter=500 ..............................................\n[CV] .................. C=10, max_iter=500, score=0.876, total=   1.5s\n[CV] C=10, max_iter=500 ..............................................\n[CV] .................. C=10, max_iter=500, score=0.863, total=   1.3s\n[CV] C=10, max_iter=500 ..............................................\n[CV] .................. C=10, max_iter=500, score=0.880, total=   1.6s\n[CV] C=10, max_iter=500 ..............................................\n[CV] .................. C=10, max_iter=500, score=0.865, total=   1.3s\n[CV] C=10, max_iter=1000 .............................................\n[CV] ................. C=10, max_iter=1000, score=0.873, total=   1.8s\n[CV] C=10, max_iter=1000 .............................................\n[CV] ................. C=10, max_iter=1000, score=0.876, total=   2.1s\n[CV] C=10, max_iter=1000 .............................................\n[CV] ................. C=10, max_iter=1000, score=0.863, total=   1.9s\n[CV] C=10, max_iter=1000 .............................................\n[CV] ................. C=10, max_iter=1000, score=0.881, total=   1.6s\n[CV] C=10, max_iter=1000 .............................................\n[CV] ................. C=10, max_iter=1000, score=0.865, total=   2.0s\n[CV] C=50, max_iter=200 ..............................................\n[CV] .................. C=50, max_iter=200, score=0.877, total=   0.5s\n[CV] C=50, max_iter=200 ..............................................\n[CV] .................. C=50, max_iter=200, score=0.883, total=   0.7s\n[CV] C=50, max_iter=200 ..............................................\n[CV] .................. C=50, max_iter=200, score=0.865, total=   0.5s\n[CV] C=50, max_iter=200 ..............................................\n[CV] .................. C=50, max_iter=200, score=0.888, total=   0.4s\n[CV] C=50, max_iter=200 ..............................................\n[CV] .................. C=50, max_iter=200, score=0.872, total=   0.5s\n[CV] C=50, max_iter=500 ..............................................\n[CV] .................. C=50, max_iter=500, score=0.878, total=   1.2s\n[CV] C=50, max_iter=500 ..............................................\n[CV] .................. C=50, max_iter=500, score=0.883, total=   0.9s\n[CV] C=50, max_iter=500 ..............................................\n[CV] .................. C=50, max_iter=500, score=0.869, total=   1.2s\n[CV] C=50, max_iter=500 ..............................................\n[CV] .................. C=50, max_iter=500, score=0.888, total=   0.9s\n[CV] C=50, max_iter=500 ..............................................\n[CV] .................. C=50, max_iter=500, score=0.873, total=   0.8s\n[CV] C=50, max_iter=1000 .............................................\n[CV] ................. C=50, max_iter=1000, score=0.878, total=   2.2s\n[CV] C=50, max_iter=1000 .............................................\n[CV] ................. C=50, max_iter=1000, score=0.883, total=   1.7s\n[CV] C=50, max_iter=1000 .............................................\n[CV] ................. C=50, max_iter=1000, score=0.869, total=   2.1s\n[CV] C=50, max_iter=1000 .............................................\n[CV] ................. C=50, max_iter=1000, score=0.889, total=   1.8s\n[CV] C=50, max_iter=1000 .............................................\n[CV] ................. C=50, max_iter=1000, score=0.875, total=   1.8s\n[CV] C=100, max_iter=200 .............................................\n[CV] ................. C=100, max_iter=200, score=0.877, total=   0.4s\n[CV] C=100, max_iter=200 .............................................\n[CV] ................. C=100, max_iter=200, score=0.881, total=   0.3s\n[CV] C=100, max_iter=200 .............................................\n[CV] ................. C=100, max_iter=200, score=0.868, total=   0.5s\n[CV] C=100, max_iter=200 .............................................\n[CV] ................. C=100, max_iter=200, score=0.887, total=   0.3s\n[CV] C=100, max_iter=200 .............................................\n[CV] ................. C=100, max_iter=200, score=0.875, total=   0.3s\n[CV] C=100, max_iter=500 .............................................\n[CV] ................. C=100, max_iter=500, score=0.879, total=   0.8s\n[CV] C=100, max_iter=500 .............................................\n[CV] ................. C=100, max_iter=500, score=0.886, total=   0.8s\n[CV] C=100, max_iter=500 .............................................\n[CV] ................. C=100, max_iter=500, score=0.874, total=   0.9s\n[CV] C=100, max_iter=500 .............................................\n[CV] ................. C=100, max_iter=500, score=0.889, total=   0.8s\n[CV] C=100, max_iter=500 .............................................\n[CV] ................. C=100, max_iter=500, score=0.873, total=   1.0s\n[CV] C=100, max_iter=1000 ............................................\n[CV] ................ C=100, max_iter=1000, score=0.881, total=   1.7s\n[CV] C=100, max_iter=1000 ............................................\n[CV] ................ C=100, max_iter=1000, score=0.885, total=   1.7s\n[CV] C=100, max_iter=1000 ............................................\n[CV] ................ C=100, max_iter=1000, score=0.877, total=   1.8s\n[CV] C=100, max_iter=1000 ............................................\n[CV] ................ C=100, max_iter=1000, score=0.889, total=   1.6s\n[CV] C=100, max_iter=1000 ............................................\n[CV] ................ C=100, max_iter=1000, score=0.876, total=   1.7s\n[Parallel(n_jobs=1)]: Done  45 out of  45 | elapsed:   51.0s finished\n"
    },
    {
     "output_type": "execute_result",
     "data": {
      "text/plain": "GridSearchCV(cv=None, error_score=nan,\n             estimator=LogisticRegression(C=1.0, class_weight=None, dual=False,\n                                          fit_intercept=True,\n                                          intercept_scaling=1, l1_ratio=None,\n                                          max_iter=100, multi_class='auto',\n                                          n_jobs=None, penalty='l2',\n                                          random_state=None, solver='lbfgs',\n                                          tol=0.0001, verbose=0,\n                                          warm_start=False),\n             iid='deprecated', n_jobs=None,\n             param_grid={'C': [10, 50, 100], 'max_iter': [200, 500, 1000]},\n             pre_dispatch='2*n_jobs', refit=True, return_train_score=False,\n             scoring=None, verbose=3)"
     },
     "metadata": {},
     "execution_count": 21
    }
   ],
   "source": [
    "# Train the model with GridSearch\n",
    "\n",
    "grid.fit(X_train_scaled, encoded_y_train)"
   ]
  },
  {
   "cell_type": "code",
   "execution_count": 22,
   "metadata": {
    "tags": []
   },
   "outputs": [
    {
     "output_type": "stream",
     "name": "stdout",
     "text": "{'C': 100, 'max_iter': 1000}\n0.8815567716254666\n"
    }
   ],
   "source": [
    "print(grid.best_params_)\n",
    "print(grid.best_score_)"
   ]
  },
  {
   "cell_type": "markdown",
   "metadata": {},
   "source": [
    "# Save the Model"
   ]
  },
  {
   "cell_type": "code",
   "execution_count": null,
   "metadata": {},
   "outputs": [],
   "source": [
    "# save your model by updating \"your_name\" with your name\n",
    "# and \"your_model\" with your model variable\n",
    "# be sure to turn this in to BCS\n",
    "# if joblib fails to import, try running the command to install in terminal/git-bash\n",
    "import joblib\n",
    "filename = 'your_name.sav'\n",
    "joblib.dump(your_model, filename)"
   ]
  }
 ],
 "metadata": {
  "kernel_info": {
   "name": "dev"
  },
  "kernelspec": {
   "display_name": "Python 3.7.6 64-bit ('base': conda)",
   "language": "python",
   "name": "python_defaultSpec_1599591677578"
  },
  "language_info": {
   "codemirror_mode": {
    "name": "ipython",
    "version": 3
   },
   "file_extension": ".py",
   "mimetype": "text/x-python",
   "name": "python",
   "nbconvert_exporter": "python",
   "pygments_lexer": "ipython3",
   "version": "3.7.6-final"
  },
  "nteract": {
   "version": "0.12.3"
  }
 },
 "nbformat": 4,
 "nbformat_minor": 2
}