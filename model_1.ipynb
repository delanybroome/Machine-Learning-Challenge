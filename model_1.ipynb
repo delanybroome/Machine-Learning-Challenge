{
 "cells": [
  {
   "cell_type": "code",
   "execution_count": 1,
   "metadata": {
    "tags": []
   },
   "outputs": [
    {
     "output_type": "stream",
     "name": "stdout",
     "text": "Collecting sklearn\n  Downloading sklearn-0.0.tar.gz (1.1 kB)\nRequirement already satisfied, skipping upgrade: scikit-learn in /opt/anaconda3/lib/python3.7/site-packages (from sklearn) (0.22.1)\nRequirement already satisfied, skipping upgrade: scipy>=0.17.0 in /opt/anaconda3/lib/python3.7/site-packages (from scikit-learn->sklearn) (1.4.1)\nRequirement already satisfied, skipping upgrade: numpy>=1.11.0 in /opt/anaconda3/lib/python3.7/site-packages (from scikit-learn->sklearn) (1.18.1)\nRequirement already satisfied, skipping upgrade: joblib>=0.11 in /opt/anaconda3/lib/python3.7/site-packages (from scikit-learn->sklearn) (0.14.1)\nBuilding wheels for collected packages: sklearn\n  Building wheel for sklearn (setup.py) ... \u001b[?25ldone\n\u001b[?25h  Created wheel for sklearn: filename=sklearn-0.0-py2.py3-none-any.whl size=1315 sha256=643ec1eb1ab25ad373fbb08445b2ae0c0b2b687ff96990f699bd192539009794\n  Stored in directory: /Users/delanybroome/Library/Caches/pip/wheels/46/ef/c3/157e41f5ee1372d1be90b09f74f82b10e391eaacca8f22d33e\nSuccessfully built sklearn\nInstalling collected packages: sklearn\nSuccessfully installed sklearn-0.0\n"
    }
   ],
   "source": [
    "# Update sklearn to prevent version mismatches\n",
    "!pip install sklearn --upgrade"
   ]
  },
  {
   "cell_type": "code",
   "execution_count": 2,
   "metadata": {
    "tags": []
   },
   "outputs": [
    {
     "output_type": "stream",
     "name": "stdout",
     "text": "Requirement already satisfied: joblib in /opt/anaconda3/lib/python3.7/site-packages (0.14.1)\n"
    }
   ],
   "source": [
    "# install joblib. This will be used to save your model. \n",
    "# Restart your kernel after installing \n",
    "!pip install joblib"
   ]
  },
  {
   "cell_type": "code",
   "execution_count": 3,
   "metadata": {},
   "outputs": [],
   "source": [
    "import pandas as pd\n",
    "import numpy as np \n",
    "import matplotlib.pyplot as plt"
   ]
  },
  {
   "cell_type": "markdown",
   "metadata": {},
   "source": [
    "# Read the CSV and Perform Basic Data Cleaning"
   ]
  },
  {
   "cell_type": "code",
   "execution_count": 4,
   "metadata": {},
   "outputs": [
    {
     "output_type": "execute_result",
     "data": {
      "text/plain": "  koi_disposition  koi_fpflag_nt  koi_fpflag_ss  koi_fpflag_co  koi_fpflag_ec  \\\n0       CONFIRMED              0              0              0              0   \n1  FALSE POSITIVE              0              1              0              0   \n2  FALSE POSITIVE              0              1              0              0   \n3       CONFIRMED              0              0              0              0   \n4       CONFIRMED              0              0              0              0   \n5       CONFIRMED              0              0              0              0   \n6       CONFIRMED              0              0              0              0   \n7       CONFIRMED              0              0              0              0   \n8       CONFIRMED              0              1              0              0   \n9       CONFIRMED              0              0              0              0   \n\n   koi_period  koi_period_err1  koi_period_err2  koi_time0bk  \\\n0   54.418383     2.479000e-04    -2.479000e-04   162.513840   \n1   19.899140     1.490000e-05    -1.490000e-05   175.850252   \n2    1.736952     2.630000e-07    -2.630000e-07   170.307565   \n3    2.525592     3.760000e-06    -3.760000e-06   171.595550   \n4    4.134435     1.050000e-05    -1.050000e-05   172.979370   \n5    2.566589     1.780000e-05    -1.780000e-05   179.554370   \n6   16.068647     1.090000e-05    -1.090000e-05   173.621937   \n7    2.470613     2.700000e-08    -2.700000e-08   122.763305   \n8    2.204735     4.300000e-08    -4.300000e-08   121.358542   \n9    3.522498     1.980000e-07    -1.980000e-07   121.119423   \n\n   koi_time0bk_err1  koi_time0bk_err2  koi_impact  koi_impact_err1  \\\n0          0.003520         -0.003520       0.586            0.059   \n1          0.000581         -0.000581       0.969            5.126   \n2          0.000115         -0.000115       1.276            0.115   \n3          0.001130         -0.001130       0.701            0.235   \n4          0.001900         -0.001900       0.762            0.139   \n5          0.004610         -0.004610       0.755            0.212   \n6          0.000517         -0.000517       0.052            0.262   \n7          0.000009         -0.000009       0.818            0.001   \n8          0.000016         -0.000016       0.224            0.159   \n9          0.000047         -0.000047       0.631            0.007   \n\n   koi_impact_err2  koi_duration  koi_duration_err1  koi_duration_err2  \\\n0           -0.443       4.50700            0.11600           -0.11600   \n1           -0.077       1.78220            0.03410           -0.03410   \n2           -0.092       2.40641            0.00537           -0.00537   \n3           -0.478       1.65450            0.04200           -0.04200   \n4           -0.532       3.14020            0.06730           -0.06730   \n5           -0.523       2.42900            0.16500           -0.16500   \n6           -0.052       3.53470            0.02410           -0.02410   \n7           -0.001       1.74319            0.00107           -0.00107   \n8           -0.216       3.88864            0.00203           -0.00203   \n9           -0.007       3.19843            0.00653           -0.00653   \n\n   koi_depth  koi_depth_err1  koi_depth_err2  koi_prad  koi_prad_err1  \\\n0      874.8            35.5           -35.5      2.83           0.32   \n1    10829.0           171.0          -171.0     14.60           3.92   \n2     8079.2            12.8           -12.8     33.46           8.50   \n3      603.3            16.9           -16.9      2.75           0.88   \n4      686.0            18.7           -18.7      2.77           0.90   \n5      226.5            16.8           -16.8      1.59           0.52   \n6     4914.3            33.3           -33.3      5.76           0.22   \n7    14231.0             4.2            -4.2     13.04           0.51   \n8     6674.7             1.7            -1.7     16.10           0.81   \n9     9145.7             6.6            -6.6     14.59           1.11   \n\n   koi_prad_err2  koi_teq  koi_insol  koi_insol_err1  koi_insol_err2  \\\n0          -0.19      443       9.11            2.87           -1.62   \n1          -1.31      638      39.30           31.04          -10.49   \n2          -2.83     1395     891.96          668.95         -230.35   \n3          -0.35     1406     926.16          874.33         -314.24   \n4          -0.30     1160     427.65          420.33         -136.70   \n5          -0.17     1360     807.74          793.91         -258.20   \n6          -0.49      600      30.75            4.46           -6.66   \n7          -0.51     1339     761.46          106.21          -95.76   \n8          -0.91     2048    4148.92          651.59         -654.46   \n9          -1.11     1521    1264.67          307.23         -276.48   \n\n   koi_model_snr  koi_tce_plnt_num  koi_steff  koi_steff_err1  koi_steff_err2  \\\n0           25.8                 2       5455              81             -81   \n1           76.3                 1       5853             158            -176   \n2          505.6                 1       5805             157            -174   \n3           40.9                 1       6031             169            -211   \n4           40.2                 2       6046             189            -232   \n5           15.0                 3       6046             189            -232   \n6          161.9                 1       5031              75             -83   \n7         4304.3                 1       5820              78             -78   \n8         5945.9                 1       6440              76             -89   \n9         1741.5                 1       6225             112            -137   \n\n   koi_slogg  koi_slogg_err1  koi_slogg_err2  koi_srad  koi_srad_err1  \\\n0      4.467           0.064          -0.096     0.927          0.105   \n1      4.544           0.044          -0.176     0.868          0.233   \n2      4.564           0.053          -0.168     0.791          0.201   \n3      4.438           0.070          -0.210     1.046          0.334   \n4      4.486           0.054          -0.229     0.972          0.315   \n5      4.486           0.054          -0.229     0.972          0.315   \n6      4.485           0.083          -0.028     0.848          0.033   \n7      4.457           0.024          -0.024     0.964          0.038   \n8      4.019           0.033          -0.027     1.952          0.099   \n9      4.169           0.055          -0.045     1.451          0.110   \n\n   koi_srad_err2         ra        dec  koi_kepmag  \n0         -0.061  291.93423  48.141651      15.347  \n1         -0.078  297.00482  48.134129      15.436  \n2         -0.067  285.53461  48.285210      15.597  \n3         -0.133  288.75488  48.226200      15.509  \n4         -0.105  296.28613  48.224670      15.714  \n5         -0.105  296.28613  48.224670      15.714  \n6         -0.072  286.99948  48.375790      15.841  \n7         -0.038  286.80847  49.316399      11.338  \n8         -0.110  292.24728  47.969521      10.463  \n9         -0.110  281.28812  42.451080      13.563  ",
      "text/html": "<div>\n<style scoped>\n    .dataframe tbody tr th:only-of-type {\n        vertical-align: middle;\n    }\n\n    .dataframe tbody tr th {\n        vertical-align: top;\n    }\n\n    .dataframe thead th {\n        text-align: right;\n    }\n</style>\n<table border=\"1\" class=\"dataframe\">\n  <thead>\n    <tr style=\"text-align: right;\">\n      <th></th>\n      <th>koi_disposition</th>\n      <th>koi_fpflag_nt</th>\n      <th>koi_fpflag_ss</th>\n      <th>koi_fpflag_co</th>\n      <th>koi_fpflag_ec</th>\n      <th>koi_period</th>\n      <th>koi_period_err1</th>\n      <th>koi_period_err2</th>\n      <th>koi_time0bk</th>\n      <th>koi_time0bk_err1</th>\n      <th>koi_time0bk_err2</th>\n      <th>koi_impact</th>\n      <th>koi_impact_err1</th>\n      <th>koi_impact_err2</th>\n      <th>koi_duration</th>\n      <th>koi_duration_err1</th>\n      <th>koi_duration_err2</th>\n      <th>koi_depth</th>\n      <th>koi_depth_err1</th>\n      <th>koi_depth_err2</th>\n      <th>koi_prad</th>\n      <th>koi_prad_err1</th>\n      <th>koi_prad_err2</th>\n      <th>koi_teq</th>\n      <th>koi_insol</th>\n      <th>koi_insol_err1</th>\n      <th>koi_insol_err2</th>\n      <th>koi_model_snr</th>\n      <th>koi_tce_plnt_num</th>\n      <th>koi_steff</th>\n      <th>koi_steff_err1</th>\n      <th>koi_steff_err2</th>\n      <th>koi_slogg</th>\n      <th>koi_slogg_err1</th>\n      <th>koi_slogg_err2</th>\n      <th>koi_srad</th>\n      <th>koi_srad_err1</th>\n      <th>koi_srad_err2</th>\n      <th>ra</th>\n      <th>dec</th>\n      <th>koi_kepmag</th>\n    </tr>\n  </thead>\n  <tbody>\n    <tr>\n      <th>0</th>\n      <td>CONFIRMED</td>\n      <td>0</td>\n      <td>0</td>\n      <td>0</td>\n      <td>0</td>\n      <td>54.418383</td>\n      <td>2.479000e-04</td>\n      <td>-2.479000e-04</td>\n      <td>162.513840</td>\n      <td>0.003520</td>\n      <td>-0.003520</td>\n      <td>0.586</td>\n      <td>0.059</td>\n      <td>-0.443</td>\n      <td>4.50700</td>\n      <td>0.11600</td>\n      <td>-0.11600</td>\n      <td>874.8</td>\n      <td>35.5</td>\n      <td>-35.5</td>\n      <td>2.83</td>\n      <td>0.32</td>\n      <td>-0.19</td>\n      <td>443</td>\n      <td>9.11</td>\n      <td>2.87</td>\n      <td>-1.62</td>\n      <td>25.8</td>\n      <td>2</td>\n      <td>5455</td>\n      <td>81</td>\n      <td>-81</td>\n      <td>4.467</td>\n      <td>0.064</td>\n      <td>-0.096</td>\n      <td>0.927</td>\n      <td>0.105</td>\n      <td>-0.061</td>\n      <td>291.93423</td>\n      <td>48.141651</td>\n      <td>15.347</td>\n    </tr>\n    <tr>\n      <th>1</th>\n      <td>FALSE POSITIVE</td>\n      <td>0</td>\n      <td>1</td>\n      <td>0</td>\n      <td>0</td>\n      <td>19.899140</td>\n      <td>1.490000e-05</td>\n      <td>-1.490000e-05</td>\n      <td>175.850252</td>\n      <td>0.000581</td>\n      <td>-0.000581</td>\n      <td>0.969</td>\n      <td>5.126</td>\n      <td>-0.077</td>\n      <td>1.78220</td>\n      <td>0.03410</td>\n      <td>-0.03410</td>\n      <td>10829.0</td>\n      <td>171.0</td>\n      <td>-171.0</td>\n      <td>14.60</td>\n      <td>3.92</td>\n      <td>-1.31</td>\n      <td>638</td>\n      <td>39.30</td>\n      <td>31.04</td>\n      <td>-10.49</td>\n      <td>76.3</td>\n      <td>1</td>\n      <td>5853</td>\n      <td>158</td>\n      <td>-176</td>\n      <td>4.544</td>\n      <td>0.044</td>\n      <td>-0.176</td>\n      <td>0.868</td>\n      <td>0.233</td>\n      <td>-0.078</td>\n      <td>297.00482</td>\n      <td>48.134129</td>\n      <td>15.436</td>\n    </tr>\n    <tr>\n      <th>2</th>\n      <td>FALSE POSITIVE</td>\n      <td>0</td>\n      <td>1</td>\n      <td>0</td>\n      <td>0</td>\n      <td>1.736952</td>\n      <td>2.630000e-07</td>\n      <td>-2.630000e-07</td>\n      <td>170.307565</td>\n      <td>0.000115</td>\n      <td>-0.000115</td>\n      <td>1.276</td>\n      <td>0.115</td>\n      <td>-0.092</td>\n      <td>2.40641</td>\n      <td>0.00537</td>\n      <td>-0.00537</td>\n      <td>8079.2</td>\n      <td>12.8</td>\n      <td>-12.8</td>\n      <td>33.46</td>\n      <td>8.50</td>\n      <td>-2.83</td>\n      <td>1395</td>\n      <td>891.96</td>\n      <td>668.95</td>\n      <td>-230.35</td>\n      <td>505.6</td>\n      <td>1</td>\n      <td>5805</td>\n      <td>157</td>\n      <td>-174</td>\n      <td>4.564</td>\n      <td>0.053</td>\n      <td>-0.168</td>\n      <td>0.791</td>\n      <td>0.201</td>\n      <td>-0.067</td>\n      <td>285.53461</td>\n      <td>48.285210</td>\n      <td>15.597</td>\n    </tr>\n    <tr>\n      <th>3</th>\n      <td>CONFIRMED</td>\n      <td>0</td>\n      <td>0</td>\n      <td>0</td>\n      <td>0</td>\n      <td>2.525592</td>\n      <td>3.760000e-06</td>\n      <td>-3.760000e-06</td>\n      <td>171.595550</td>\n      <td>0.001130</td>\n      <td>-0.001130</td>\n      <td>0.701</td>\n      <td>0.235</td>\n      <td>-0.478</td>\n      <td>1.65450</td>\n      <td>0.04200</td>\n      <td>-0.04200</td>\n      <td>603.3</td>\n      <td>16.9</td>\n      <td>-16.9</td>\n      <td>2.75</td>\n      <td>0.88</td>\n      <td>-0.35</td>\n      <td>1406</td>\n      <td>926.16</td>\n      <td>874.33</td>\n      <td>-314.24</td>\n      <td>40.9</td>\n      <td>1</td>\n      <td>6031</td>\n      <td>169</td>\n      <td>-211</td>\n      <td>4.438</td>\n      <td>0.070</td>\n      <td>-0.210</td>\n      <td>1.046</td>\n      <td>0.334</td>\n      <td>-0.133</td>\n      <td>288.75488</td>\n      <td>48.226200</td>\n      <td>15.509</td>\n    </tr>\n    <tr>\n      <th>4</th>\n      <td>CONFIRMED</td>\n      <td>0</td>\n      <td>0</td>\n      <td>0</td>\n      <td>0</td>\n      <td>4.134435</td>\n      <td>1.050000e-05</td>\n      <td>-1.050000e-05</td>\n      <td>172.979370</td>\n      <td>0.001900</td>\n      <td>-0.001900</td>\n      <td>0.762</td>\n      <td>0.139</td>\n      <td>-0.532</td>\n      <td>3.14020</td>\n      <td>0.06730</td>\n      <td>-0.06730</td>\n      <td>686.0</td>\n      <td>18.7</td>\n      <td>-18.7</td>\n      <td>2.77</td>\n      <td>0.90</td>\n      <td>-0.30</td>\n      <td>1160</td>\n      <td>427.65</td>\n      <td>420.33</td>\n      <td>-136.70</td>\n      <td>40.2</td>\n      <td>2</td>\n      <td>6046</td>\n      <td>189</td>\n      <td>-232</td>\n      <td>4.486</td>\n      <td>0.054</td>\n      <td>-0.229</td>\n      <td>0.972</td>\n      <td>0.315</td>\n      <td>-0.105</td>\n      <td>296.28613</td>\n      <td>48.224670</td>\n      <td>15.714</td>\n    </tr>\n    <tr>\n      <th>5</th>\n      <td>CONFIRMED</td>\n      <td>0</td>\n      <td>0</td>\n      <td>0</td>\n      <td>0</td>\n      <td>2.566589</td>\n      <td>1.780000e-05</td>\n      <td>-1.780000e-05</td>\n      <td>179.554370</td>\n      <td>0.004610</td>\n      <td>-0.004610</td>\n      <td>0.755</td>\n      <td>0.212</td>\n      <td>-0.523</td>\n      <td>2.42900</td>\n      <td>0.16500</td>\n      <td>-0.16500</td>\n      <td>226.5</td>\n      <td>16.8</td>\n      <td>-16.8</td>\n      <td>1.59</td>\n      <td>0.52</td>\n      <td>-0.17</td>\n      <td>1360</td>\n      <td>807.74</td>\n      <td>793.91</td>\n      <td>-258.20</td>\n      <td>15.0</td>\n      <td>3</td>\n      <td>6046</td>\n      <td>189</td>\n      <td>-232</td>\n      <td>4.486</td>\n      <td>0.054</td>\n      <td>-0.229</td>\n      <td>0.972</td>\n      <td>0.315</td>\n      <td>-0.105</td>\n      <td>296.28613</td>\n      <td>48.224670</td>\n      <td>15.714</td>\n    </tr>\n    <tr>\n      <th>6</th>\n      <td>CONFIRMED</td>\n      <td>0</td>\n      <td>0</td>\n      <td>0</td>\n      <td>0</td>\n      <td>16.068647</td>\n      <td>1.090000e-05</td>\n      <td>-1.090000e-05</td>\n      <td>173.621937</td>\n      <td>0.000517</td>\n      <td>-0.000517</td>\n      <td>0.052</td>\n      <td>0.262</td>\n      <td>-0.052</td>\n      <td>3.53470</td>\n      <td>0.02410</td>\n      <td>-0.02410</td>\n      <td>4914.3</td>\n      <td>33.3</td>\n      <td>-33.3</td>\n      <td>5.76</td>\n      <td>0.22</td>\n      <td>-0.49</td>\n      <td>600</td>\n      <td>30.75</td>\n      <td>4.46</td>\n      <td>-6.66</td>\n      <td>161.9</td>\n      <td>1</td>\n      <td>5031</td>\n      <td>75</td>\n      <td>-83</td>\n      <td>4.485</td>\n      <td>0.083</td>\n      <td>-0.028</td>\n      <td>0.848</td>\n      <td>0.033</td>\n      <td>-0.072</td>\n      <td>286.99948</td>\n      <td>48.375790</td>\n      <td>15.841</td>\n    </tr>\n    <tr>\n      <th>7</th>\n      <td>CONFIRMED</td>\n      <td>0</td>\n      <td>0</td>\n      <td>0</td>\n      <td>0</td>\n      <td>2.470613</td>\n      <td>2.700000e-08</td>\n      <td>-2.700000e-08</td>\n      <td>122.763305</td>\n      <td>0.000009</td>\n      <td>-0.000009</td>\n      <td>0.818</td>\n      <td>0.001</td>\n      <td>-0.001</td>\n      <td>1.74319</td>\n      <td>0.00107</td>\n      <td>-0.00107</td>\n      <td>14231.0</td>\n      <td>4.2</td>\n      <td>-4.2</td>\n      <td>13.04</td>\n      <td>0.51</td>\n      <td>-0.51</td>\n      <td>1339</td>\n      <td>761.46</td>\n      <td>106.21</td>\n      <td>-95.76</td>\n      <td>4304.3</td>\n      <td>1</td>\n      <td>5820</td>\n      <td>78</td>\n      <td>-78</td>\n      <td>4.457</td>\n      <td>0.024</td>\n      <td>-0.024</td>\n      <td>0.964</td>\n      <td>0.038</td>\n      <td>-0.038</td>\n      <td>286.80847</td>\n      <td>49.316399</td>\n      <td>11.338</td>\n    </tr>\n    <tr>\n      <th>8</th>\n      <td>CONFIRMED</td>\n      <td>0</td>\n      <td>1</td>\n      <td>0</td>\n      <td>0</td>\n      <td>2.204735</td>\n      <td>4.300000e-08</td>\n      <td>-4.300000e-08</td>\n      <td>121.358542</td>\n      <td>0.000016</td>\n      <td>-0.000016</td>\n      <td>0.224</td>\n      <td>0.159</td>\n      <td>-0.216</td>\n      <td>3.88864</td>\n      <td>0.00203</td>\n      <td>-0.00203</td>\n      <td>6674.7</td>\n      <td>1.7</td>\n      <td>-1.7</td>\n      <td>16.10</td>\n      <td>0.81</td>\n      <td>-0.91</td>\n      <td>2048</td>\n      <td>4148.92</td>\n      <td>651.59</td>\n      <td>-654.46</td>\n      <td>5945.9</td>\n      <td>1</td>\n      <td>6440</td>\n      <td>76</td>\n      <td>-89</td>\n      <td>4.019</td>\n      <td>0.033</td>\n      <td>-0.027</td>\n      <td>1.952</td>\n      <td>0.099</td>\n      <td>-0.110</td>\n      <td>292.24728</td>\n      <td>47.969521</td>\n      <td>10.463</td>\n    </tr>\n    <tr>\n      <th>9</th>\n      <td>CONFIRMED</td>\n      <td>0</td>\n      <td>0</td>\n      <td>0</td>\n      <td>0</td>\n      <td>3.522498</td>\n      <td>1.980000e-07</td>\n      <td>-1.980000e-07</td>\n      <td>121.119423</td>\n      <td>0.000047</td>\n      <td>-0.000047</td>\n      <td>0.631</td>\n      <td>0.007</td>\n      <td>-0.007</td>\n      <td>3.19843</td>\n      <td>0.00653</td>\n      <td>-0.00653</td>\n      <td>9145.7</td>\n      <td>6.6</td>\n      <td>-6.6</td>\n      <td>14.59</td>\n      <td>1.11</td>\n      <td>-1.11</td>\n      <td>1521</td>\n      <td>1264.67</td>\n      <td>307.23</td>\n      <td>-276.48</td>\n      <td>1741.5</td>\n      <td>1</td>\n      <td>6225</td>\n      <td>112</td>\n      <td>-137</td>\n      <td>4.169</td>\n      <td>0.055</td>\n      <td>-0.045</td>\n      <td>1.451</td>\n      <td>0.110</td>\n      <td>-0.110</td>\n      <td>281.28812</td>\n      <td>42.451080</td>\n      <td>13.563</td>\n    </tr>\n  </tbody>\n</table>\n</div>"
     },
     "metadata": {},
     "execution_count": 4
    }
   ],
   "source": [
    "df = pd.read_csv(\"exoplanet_data.csv\")\n",
    "# Drop the null columns where all values are null\n",
    "df = df.dropna(axis='columns', how='all')\n",
    "pd.set_option('display.max_columns', None)\n",
    "# Drop the null rows\n",
    "df = df.dropna()\n",
    "df.head(10)"
   ]
  },
  {
   "cell_type": "markdown",
   "metadata": {},
   "source": [
    "# Select your features (columns)"
   ]
  },
  {
   "cell_type": "code",
   "execution_count": null,
   "metadata": {},
   "outputs": [],
   "source": [
    "# Set features. This will also be used as your x values.\n",
    "selected_features = df[['names', 'of', 'selected', 'features', 'here']]"
   ]
  },
  {
   "cell_type": "markdown",
   "metadata": {},
   "source": [
    "# Create a Train Test Split\n",
    "\n",
    "Use `koi_disposition` for the y values"
   ]
  },
  {
   "cell_type": "code",
   "execution_count": null,
   "metadata": {},
   "outputs": [],
   "source": []
  },
  {
   "cell_type": "code",
   "execution_count": null,
   "metadata": {},
   "outputs": [],
   "source": [
    "X_train.head()"
   ]
  },
  {
   "cell_type": "markdown",
   "metadata": {},
   "source": [
    "# Pre-processing\n",
    "\n",
    "Scale the data using the MinMaxScaler and perform some feature selection"
   ]
  },
  {
   "cell_type": "code",
   "execution_count": null,
   "metadata": {},
   "outputs": [],
   "source": [
    "# Scale your data"
   ]
  },
  {
   "cell_type": "markdown",
   "metadata": {},
   "source": [
    "# Train the Model\n",
    "\n"
   ]
  },
  {
   "cell_type": "code",
   "execution_count": null,
   "metadata": {},
   "outputs": [],
   "source": [
    "print(f\"Training Data Score: {model2.score(X_train_scaled, y_train)}\")\n",
    "print(f\"Testing Data Score: {model2.score(X_test_scaled, y_test)}\")"
   ]
  },
  {
   "cell_type": "markdown",
   "metadata": {},
   "source": [
    "# Hyperparameter Tuning\n",
    "\n",
    "Use `GridSearchCV` to tune the model's parameters"
   ]
  },
  {
   "cell_type": "code",
   "execution_count": null,
   "metadata": {},
   "outputs": [],
   "source": [
    "# Create the GridSearchCV model"
   ]
  },
  {
   "cell_type": "code",
   "execution_count": null,
   "metadata": {},
   "outputs": [],
   "source": [
    "# Train the model with GridSearch"
   ]
  },
  {
   "cell_type": "code",
   "execution_count": null,
   "metadata": {},
   "outputs": [],
   "source": [
    "print(grid2.best_params_)\n",
    "print(grid2.best_score_)"
   ]
  },
  {
   "cell_type": "markdown",
   "metadata": {},
   "source": [
    "# Save the Model"
   ]
  },
  {
   "cell_type": "code",
   "execution_count": null,
   "metadata": {},
   "outputs": [],
   "source": [
    "# save your model by updating \"your_name\" with your name\n",
    "# and \"your_model\" with your model variable\n",
    "# be sure to turn this in to BCS\n",
    "# if joblib fails to import, try running the command to install in terminal/git-bash\n",
    "import joblib\n",
    "filename = 'your_name.sav'\n",
    "joblib.dump(your_model, filename)"
   ]
  }
 ],
 "metadata": {
  "kernel_info": {
   "name": "dev"
  },
  "kernelspec": {
   "display_name": "Python 3.7.6 64-bit ('anaconda3': virtualenv)",
   "language": "python",
   "name": "python_defaultSpec_1599537711166"
  },
  "language_info": {
   "codemirror_mode": {
    "name": "ipython",
    "version": 3
   },
   "file_extension": ".py",
   "mimetype": "text/x-python",
   "name": "python",
   "nbconvert_exporter": "python",
   "pygments_lexer": "ipython3",
   "version": "3.7.6-final"
  },
  "nteract": {
   "version": "0.12.3"
  }
 },
 "nbformat": 4,
 "nbformat_minor": 2
}